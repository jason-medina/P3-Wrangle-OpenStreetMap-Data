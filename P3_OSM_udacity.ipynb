{
 "cells": [
  {
   "cell_type": "markdown",
   "metadata": {},
   "source": [
    "# P3: Wrangle OpenStreetMap Data\n",
    "\n",
    "## For this project, we will look at OpenStreetMap data for Culver City, California - where the city motto is \"the heart of screenland\".  I expect the Culver City dataset to be rich with amenities.\n",
    " \n",
    "## We start by getting familiar with the data. [Here](https://mapzen.com/data/metro-extracts/) is a link to the metro-extracts page where extracts are available for download.  As mentioned above, I choose to extract the data for Culver City.\n",
    "\n",
    "## <font color = red> This project applies data wrangling and mungling techniques to an  OSM XML extract with pymongo </font>\n",
    "\n",
    "## After the zip file is downloaded and extracted, we see the OSM file is 604M in size\n",
    "> $ ls -sh culver-city_ca.osm \n",
    "<br/> 604M culver-ciy_ca.osm"
   ]
  },
  {
   "cell_type": "markdown",
   "metadata": {},
   "source": [
    "## The next few cells show how to programatically clean street names and audit zip codes.  To clean street names, create a list of expected street names to look for any unexpected street names in the street value in the address key."
   ]
  },
  {
   "cell_type": "code",
   "execution_count": 44,
   "metadata": {
    "collapsed": true
   },
   "outputs": [],
   "source": [
    "# Hello pymongo\n",
    "import os\n",
    "import xml.etree.cElementTree as cET\n",
    "from collections import defaultdict\n",
    "import pprint\n",
    "import re\n",
    "import codecs\n",
    "import json\n",
    "import string\n",
    "from pymongo import MongoClient\n",
    "\n",
    "# create filename and path\n",
    "filename = \"culver-city_ca.osm\"\n",
    "path = \"/Users/JasonMedina/Downloads\"\n",
    "culverCityOSM = os.path.join(path, filename)\n",
    "\n",
    "# common regex\n",
    "lower = re.compile(r'^([a-z]|_)*$') \n",
    "lower_colon = re.compile(r'^([a-z]|_)*:([a-z]|_)*$')\n",
    "problemchars = re.compile(r'[=\\+/&<>;\\'\"\\?%#$@\\,\\. \\t\\r\\n]')\n",
    "street_type_re = re.compile(r'\\b\\S+\\.?$', re.IGNORECASE)\n",
    "\n",
    "# valid ending street names\n",
    "expected = [\"Street\", \"Avenue\", \"Boulevard\", \"Drive\", \"Way\", \"Court\", \n",
    "            \"Place\", \"Circle\", \"Lane\", \"Road\", \"Trail\", \"Parkway\"]"
   ]
  },
  {
   "cell_type": "markdown",
   "metadata": {},
   "source": [
    "## This script will iterate thru node and way tags to looks for the street value and print the sets of unexpected street types and attribute values."
   ]
  },
  {
   "cell_type": "code",
   "execution_count": 45,
   "metadata": {
    "collapsed": false
   },
   "outputs": [
    {
     "name": "stdout",
     "output_type": "stream",
     "text": [
      "{'200': set(['North Camden Drive, Suite 200']),\n",
      " u'246-0756': set([u'Greenleaf Gourmet Chopshopmore info\\u200e9671 Wilshire BoulevardBeverly Hills, CA 90212  (310) 246-0756']),\n",
      " u'276-1562': set([u'Subwaymore info\\u200e9673 Wilshire BoulevardBeverly Hills, CA 90212 (310) 276-1562']),\n",
      " u'308': set([u'499 North Ca\\xf1on Drive, Suite 308']),\n",
      " '3190': set(['W Jefferson Blvd Suite 3190']),\n",
      " u'777-5877': set([u'Barney Greengrass Restaunt, \\u200e9570 Wilshire Boulevard Beverly Hills, CA 90212 (310) 777-5877']),\n",
      " u'858-1383': set([u\"Capriotti'smore info\\u200e9683 Wilshire BoulevardBeverly Hills, CA 90212(310) 858-1383\"]),\n",
      " 'A': set(['North Roxbury Drive Penthouse Suite A']),\n",
      " 'Ave': set(['Centinela Ave',\n",
      "             'Glencoe Ave',\n",
      "             'Le Conte Ave',\n",
      "             'Ohio Ave',\n",
      "             'Olive Ave',\n",
      "             'Pacific Ave',\n",
      "             'S Centinela Ave',\n",
      "             'South Fairfax Ave',\n",
      "             'Watseka Ave']),\n",
      " 'Ave,': set(['Marlton Ave,']),\n",
      " 'Bl.': set(['National Bl.']),\n",
      " 'Blvd': set(['11000 National Blvd',\n",
      "              '2733 South Sepulveda Blvd',\n",
      "              'E Manchester Blvd',\n",
      "              'East Manchester Blvd',\n",
      "              'Lincoln Blvd',\n",
      "              'North Robertson Blvd',\n",
      "              'Robertson Blvd',\n",
      "              'S La Cienega Blvd',\n",
      "              'S Sepulveda Blvd',\n",
      "              'Santa Monica Blvd',\n",
      "              'South Sepulveda Blvd',\n",
      "              'Venice Blvd',\n",
      "              'W Pico Blvd',\n",
      "              'W Washington Blvd',\n",
      "              'Washington Blvd',\n",
      "              'Wilshire Blvd']),\n",
      " 'Blvd.': set(['Jefferson Blvd.',\n",
      "               'North Robertson Blvd.',\n",
      "               'Olympic Blvd.',\n",
      "               'Santa Monica Blvd.',\n",
      "               'West Olympic Blvd.']),\n",
      " 'Bvd': set(['Santa Monica Bvd']),\n",
      " 'CA': set(['9600 Wilshire Blvd, Beverly Hills, CA',\n",
      "            '9634 Wilshire Blvd, Beverly Hills, CA']),\n",
      " 'Centinela': set(['W. Centinela']),\n",
      " 'Dr': set(['Getty Center Dr']),\n",
      " 'E': set(['Century Park E']),\n",
      " 'East': set(['Century Park East']),\n",
      " 'Ln': set(['Walnut Ln']),\n",
      " 'Marina': set(['Via Marina']),\n",
      " 'North': set(['Charles E Young Drive North', 'Donald Douglas Loop North']),\n",
      " 'Plaza': set(['Portola Plaza',\n",
      "               'Stein Plaza',\n",
      "               'UCLA Medical Plaza',\n",
      "               'Westwood Plaza']),\n",
      " 'Pointe': set(['Corporate Pointe']),\n",
      " 'Rd': set(['N Foothill Rd']),\n",
      " 'Seabluff': set(['Seabluff']),\n",
      " 'Sepulveda': set(['1200 South Sepulveda']),\n",
      " 'South': set(['Charles E. Young Drive South', 'Donald Douglas Loop South']),\n",
      " 'St': set(['Sawyer St']),\n",
      " 'Stars': set(['Avenue of Stars', 'Avenue of the Stars']),\n",
      " 'Terrace': set(['Bellagio Terrace', 'Weyburn Terrace']),\n",
      " 'ave': set(['Olive ave']),\n",
      " 'avenue': set(['South Cochran avenue',\n",
      "                'north la brea avenue',\n",
      "                'veteran avenue']),\n",
      " 'floor': set(['9600 Wilshire Boulevard, Beverly Hills, CA 90212  5th floor'])}\n"
     ]
    }
   ],
   "source": [
    "def audit_street_type(street_types, street_name):\n",
    "    m = street_type_re.search(street_name)\n",
    "    if m:\n",
    "        street_type = m.group()\n",
    "        if street_type not in expected:\n",
    "            street_types[street_type].add(street_name)\n",
    "            \n",
    "def is_street_name(elem):\n",
    "    return (elem.attrib['k'] == \"addr:street\")\n",
    "\n",
    "def audit_street(osmfile):\n",
    "    osm_file = open(osmfile, \"r\")\n",
    "    street_types = defaultdict(set)\n",
    "    for event, elem in cET.iterparse(osm_file, events=(\"start\",)):\n",
    "        if elem.tag == \"node\" or elem.tag == \"way\":\n",
    "            for tag in elem.iter(\"tag\"):\n",
    "                if is_street_name(tag):\n",
    "                    audit_street_type(street_types, tag.attrib['v'])\n",
    "    return street_types\n",
    "\n",
    "st_types = audit_street(culverCityOSM)\n",
    "pprint.pprint(dict(st_types))"
   ]
  },
  {
   "cell_type": "markdown",
   "metadata": {},
   "source": [
    "## There are a few sets that need cleaning, mostly of the Avenue value.  The data looks good, nonetheless we can create a map to fix incorrect street names."
   ]
  },
  {
   "cell_type": "code",
   "execution_count": 46,
   "metadata": {
    "collapsed": false
   },
   "outputs": [],
   "source": [
    "# Dictionary to fix street names\n",
    "mapping = { \"Ave\": \"Avenue\",\n",
    "            \"Ave,\": \"Avenue\",\n",
    "            \"Bl.\": \"Boulevard\",\n",
    "            \"Blvd\": \"Boulevard\",\n",
    "            \"Blvd.\": \"Boulevard\",\n",
    "            \"Bvd\": \"Boulevard\",\n",
    "            \"Dr\": \"Drive\",\n",
    "            \"Ln\": \"Lane\",\n",
    "            \"St\": \"Street\",\n",
    "            \"ave\": \"Avenue\",\n",
    "            \"avenue\": \"Avenue\"}\n",
    "           \n",
    "# update street names\n",
    "def update_name(name, mapping):    \n",
    "    for key in mapping:\n",
    "        if key in name:\n",
    "            name = string.replace(name,key,mapping[key])\n",
    "    return name"
   ]
  },
  {
   "cell_type": "markdown",
   "metadata": {
    "collapsed": true
   },
   "source": [
    "## Let's continue to audit the data by looking at the zip codes to identify any potential issues."
   ]
  },
  {
   "cell_type": "code",
   "execution_count": 47,
   "metadata": {
    "collapsed": false
   },
   "outputs": [
    {
     "name": "stdout",
     "output_type": "stream",
     "text": [
      "CA 90045 1\n",
      "CA 90291 1\n",
      "CA 90405 1\n",
      "CA 90404 1\n",
      "CA 90034 1\n",
      "CA 90036 1\n",
      "CA 90024 1\n",
      "91108 1\n",
      "CA 90232 1\n"
     ]
    }
   ],
   "source": [
    "def audit_zipcodes(osmfile):\n",
    "    osm_file = open(osmfile, \"r\")\n",
    "    zip_codes = {}\n",
    "    for event, elem in cET.iterparse(osm_file, events=(\"start\",)):\n",
    "        if elem.tag == \"node\" or elem.tag == \"way\":\n",
    "            for tag in elem.iter(\"tag\"):\n",
    "                if tag.attrib['k'] == \"addr:postcode\" and not tag.attrib['v'].startswith('90'):\n",
    "                    if tag.attrib['v'] not in zip_codes:\n",
    "                        zip_codes[tag.attrib['v']] = 1\n",
    "                    else:\n",
    "                        zip_codes[tag.attrib['v']] += 1\n",
    "    return zip_codes\n",
    "\n",
    "zipcodes = audit_zipcodes(culverCityOSM)\n",
    "for zipcode in zipcodes:\n",
    "    print zipcode, zipcodes[zipcode]"
   ]
  },
  {
   "cell_type": "markdown",
   "metadata": {},
   "source": [
    "### Looks like there are a few zip codes that start with CA and one outside the expected '90' prefix.  The zip codes for our data start with '90' [source](http://www.zipmap.net/California/Los_Angeles_County/Culver_City.htm).  There are some zip codes that start with CA, however not many."
   ]
  },
  {
   "cell_type": "markdown",
   "metadata": {},
   "source": [
    "### Now it's time to convert the OSM file into a JSON file via cygwin :\n",
    "> $ python data.py culver-city_ca.osm\n",
    "\n",
    "## We can use pymongo once the OSM data is reshaped from the original XML to JSON format.  The original [OSM XML extract is here](https://mapzen.com/data/metro-extracts/your-extracts/31eb1a32d44d)."
   ]
  },
  {
   "cell_type": "code",
   "execution_count": 48,
   "metadata": {
    "collapsed": false
   },
   "outputs": [],
   "source": [
    "# py script to output JSON file given OSM XML file\n",
    "\n",
    "CREATED = [ \"version\", \"changeset\", \"timestamp\", \"user\", \"uid\"]\n",
    "\n",
    "def shape_element(element):\n",
    "    node = {}\n",
    "    node[\"created\"]={}\n",
    "    node[\"address\"]={}\n",
    "    node[\"pos\"]=[]\n",
    "    refs=[]\n",
    "    \n",
    "    # only process node and way tags\n",
    "    if element.tag == \"node\" or element.tag == \"way\" :\n",
    "        if \"id\" in element.attrib:\n",
    "            node[\"id\"]=element.attrib[\"id\"]\n",
    "        node[\"type\"]=element.tag\n",
    "\n",
    "        if \"visible\" in element.attrib.keys():\n",
    "            node[\"visible\"]=element.attrib[\"visible\"]\n",
    "      \n",
    "        # key-value pairs with attributes from CREATED list\n",
    "        for elem in CREATED:\n",
    "            if elem in element.attrib:\n",
    "                node[\"created\"][elem]=element.attrib[elem]\n",
    "                \n",
    "        # appending lat and lon to pos array\n",
    "        \n",
    "        if \"lat\" in element.attrib:\n",
    "            node[\"pos\"].append(float(element.attrib[\"lat\"]))\n",
    "        \n",
    "        if \"lon\" in element.attrib:\n",
    "            node[\"pos\"].append(float(element.attrib[\"lon\"]))\n",
    "\n",
    "        \n",
    "        for tag in element.iter(\"tag\"):\n",
    "            if not(problemchars.search(tag.attrib['k'])):\n",
    "                if tag.attrib['k'] == \"addr:housenumber\":\n",
    "                    node[\"address\"][\"housenumber\"]=tag.attrib['v']\n",
    "                    \n",
    "                if tag.attrib['k'] == \"addr:postcode\":\n",
    "                    node[\"address\"][\"postcode\"]=tag.attrib['v']\n",
    "                \n",
    "                if tag.attrib['k'] == \"addr:street\":\n",
    "                    node[\"address\"][\"street\"]=tag.attrib['v']\n",
    "                    node[\"address\"][\"street\"] = update_name(node[\"address\"][\"street\"], mapping)\n",
    "\n",
    "                if tag.attrib['k'].find(\"addr\")==-1:\n",
    "                    node[tag.attrib['k']]=tag.attrib['v']\n",
    "                    \n",
    "        for nd in element.iter(\"nd\"):\n",
    "             refs.append(nd.attrib[\"ref\"])\n",
    "                \n",
    "        if node[\"address\"] =={}:\n",
    "            node.pop(\"address\", None)\n",
    "\n",
    "        if refs != []:\n",
    "           node[\"node_refs\"]=refs\n",
    "            \n",
    "        return node\n",
    "    else:\n",
    "        return None\n",
    "\n",
    "def process_map(file_in, pretty = False):\n",
    "    file_out = \"{0}.json\".format(file_in)\n",
    "    data = []\n",
    "    with codecs.open(file_out, \"w\") as fo:\n",
    "        for _, element in cET.iterparse(file_in):\n",
    "            el = shape_element(element)\n",
    "            if el:\n",
    "                data.append(el)\n",
    "                if pretty:\n",
    "                    fo.write(json.dumps(el, indent=2)+\"\\n\")\n",
    "                else:\n",
    "                    fo.write(json.dumps(el) + \"\\n\")\n",
    "    return data"
   ]
  },
  {
   "cell_type": "code",
   "execution_count": 49,
   "metadata": {
    "collapsed": true
   },
   "outputs": [],
   "source": [
    "# this reshaping can take several minutes\n",
    "data = process_map(culverCityOSM, True)"
   ]
  },
  {
   "cell_type": "markdown",
   "metadata": {},
   "source": [
    "### The next step requires we run mongod.exe from cygwin\n",
    "> $ run mongod.exe"
   ]
  },
  {
   "cell_type": "code",
   "execution_count": 50,
   "metadata": {
    "collapsed": false
   },
   "outputs": [
    {
     "name": "stderr",
     "output_type": "stream",
     "text": [
      "C:\\Users\\JasonMedina\\Anaconda2\\lib\\site-packages\\ipykernel\\__main__.py:5: DeprecationWarning: insert is deprecated. Use insert_one or insert_many instead.\n"
     ]
    },
    {
     "data": {
      "text/plain": [
       "[ObjectId('57e200606df1501eb837dc82'),\n",
       " ObjectId('57e200606df1501eb837dc83'),\n",
       " ObjectId('57e200606df1501eb837dc84'),\n",
       " ObjectId('57e200606df1501eb837dc85'),\n",
       " ObjectId('57e200606df1501eb837dc86'),\n",
       " ObjectId('57e200606df1501eb837dc87'),\n",
       " ObjectId('57e200606df1501eb837dc88'),\n",
       " ObjectId('57e200606df1501eb837dc89'),\n",
       " ObjectId('57e200606df1501eb837dc8a'),\n",
       " ObjectId('57e200606df1501eb837dc8b'),\n",
       " ObjectId('57e200606df1501eb837dc8c'),\n",
       " ObjectId('57e200606df1501eb837dc8d'),\n",
       " ObjectId('57e200606df1501eb837dc8e'),\n",
       " ObjectId('57e200606df1501eb837dc8f'),\n",
       " ObjectId('57e200606df1501eb837dc90'),\n",
       " ObjectId('57e200606df1501eb837dc91'),\n",
       " ObjectId('57e200606df1501eb837dc92'),\n",
       " ObjectId('57e200606df1501eb837dc93'),\n",
       " ObjectId('57e200606df1501eb837dc94'),\n",
       " ObjectId('57e200606df1501eb837dc95'),\n",
       " ObjectId('57e200606df1501eb837dc96'),\n",
       " ObjectId('57e200606df1501eb837dc97'),\n",
       " ObjectId('57e200606df1501eb837dc98'),\n",
       " ObjectId('57e200606df1501eb837dc99'),\n",
       " ObjectId('57e200606df1501eb837dc9a'),\n",
       " ObjectId('57e200606df1501eb837dc9b'),\n",
       " ObjectId('57e200606df1501eb837dc9c'),\n",
       " ObjectId('57e200606df1501eb837dc9d'),\n",
       " ObjectId('57e200606df1501eb837dc9e'),\n",
       " ObjectId('57e200606df1501eb837dc9f'),\n",
       " ObjectId('57e200606df1501eb837dca0'),\n",
       " ObjectId('57e200606df1501eb837dca1'),\n",
       " ObjectId('57e200606df1501eb837dca2'),\n",
       " ObjectId('57e200606df1501eb837dca3'),\n",
       " ObjectId('57e200606df1501eb837dca4'),\n",
       " ObjectId('57e200606df1501eb837dca5'),\n",
       " ObjectId('57e200606df1501eb837dca6'),\n",
       " ObjectId('57e200606df1501eb837dca7'),\n",
       " ObjectId('57e200606df1501eb837dca8'),\n",
       " ObjectId('57e200606df1501eb837dca9'),\n",
       " ObjectId('57e200606df1501eb837dcaa'),\n",
       " ObjectId('57e200606df1501eb837dcab'),\n",
       " ObjectId('57e200606df1501eb837dcac'),\n",
       " ObjectId('57e200606df1501eb837dcad'),\n",
       " ObjectId('57e200606df1501eb837dcae'),\n",
       " ObjectId('57e200606df1501eb837dcaf'),\n",
       " ObjectId('57e200606df1501eb837dcb0'),\n",
       " ObjectId('57e200606df1501eb837dcb1'),\n",
       " ObjectId('57e200606df1501eb837dcb2'),\n",
       " ObjectId('57e200606df1501eb837dcb3'),\n",
       " ObjectId('57e200606df1501eb837dcb4'),\n",
       " ObjectId('57e200606df1501eb837dcb5'),\n",
       " ObjectId('57e200606df1501eb837dcb6'),\n",
       " ObjectId('57e200606df1501eb837dcb7'),\n",
       " ObjectId('57e200606df1501eb837dcb8'),\n",
       " ObjectId('57e200606df1501eb837dcb9'),\n",
       " ObjectId('57e200606df1501eb837dcba'),\n",
       " ObjectId('57e200606df1501eb837dcbb'),\n",
       " ObjectId('57e200606df1501eb837dcbc'),\n",
       " ObjectId('57e200606df1501eb837dcbd'),\n",
       " ObjectId('57e200606df1501eb837dcbe'),\n",
       " ObjectId('57e200606df1501eb837dcbf'),\n",
       " ObjectId('57e200606df1501eb837dcc0'),\n",
       " ObjectId('57e200606df1501eb837dcc1'),\n",
       " ObjectId('57e200606df1501eb837dcc2'),\n",
       " ObjectId('57e200606df1501eb837dcc3'),\n",
       " ObjectId('57e200606df1501eb837dcc4'),\n",
       " ObjectId('57e200606df1501eb837dcc5'),\n",
       " ObjectId('57e200606df1501eb837dcc6'),\n",
       " ObjectId('57e200606df1501eb837dcc7'),\n",
       " ObjectId('57e200606df1501eb837dcc8'),\n",
       " ObjectId('57e200606df1501eb837dcc9'),\n",
       " ObjectId('57e200606df1501eb837dcca'),\n",
       " ObjectId('57e200606df1501eb837dccb'),\n",
       " ObjectId('57e200606df1501eb837dccc'),\n",
       " ObjectId('57e200606df1501eb837dccd'),\n",
       " ObjectId('57e200606df1501eb837dcce'),\n",
       " ObjectId('57e200606df1501eb837dccf'),\n",
       " ObjectId('57e200606df1501eb837dcd0'),\n",
       " ObjectId('57e200606df1501eb837dcd1'),\n",
       " ObjectId('57e200606df1501eb837dcd2'),\n",
       " ObjectId('57e200606df1501eb837dcd3'),\n",
       " ObjectId('57e200606df1501eb837dcd4'),\n",
       " ObjectId('57e200606df1501eb837dcd5'),\n",
       " ObjectId('57e200606df1501eb837dcd6'),\n",
       " ObjectId('57e200606df1501eb837dcd7'),\n",
       " ObjectId('57e200606df1501eb837dcd8'),\n",
       " ObjectId('57e200606df1501eb837dcd9'),\n",
       " ObjectId('57e200606df1501eb837dcda'),\n",
       " ObjectId('57e200606df1501eb837dcdb'),\n",
       " ObjectId('57e200606df1501eb837dcdc'),\n",
       " ObjectId('57e200606df1501eb837dcdd'),\n",
       " ObjectId('57e200606df1501eb837dcde'),\n",
       " ObjectId('57e200606df1501eb837dcdf'),\n",
       " ObjectId('57e200606df1501eb837dce0'),\n",
       " ObjectId('57e200606df1501eb837dce1'),\n",
       " ObjectId('57e200606df1501eb837dce2'),\n",
       " ObjectId('57e200606df1501eb837dce3'),\n",
       " ObjectId('57e200606df1501eb837dce4'),\n",
       " ObjectId('57e200606df1501eb837dce5'),\n",
       " ObjectId('57e200606df1501eb837dce6'),\n",
       " ObjectId('57e200606df1501eb837dce7'),\n",
       " ObjectId('57e200606df1501eb837dce8'),\n",
       " ObjectId('57e200606df1501eb837dce9'),\n",
       " ObjectId('57e200606df1501eb837dcea'),\n",
       " ObjectId('57e200606df1501eb837dceb'),\n",
       " ObjectId('57e200606df1501eb837dcec'),\n",
       " ObjectId('57e200606df1501eb837dced'),\n",
       " ObjectId('57e200606df1501eb837dcee'),\n",
       " ObjectId('57e200606df1501eb837dcef'),\n",
       " ObjectId('57e200606df1501eb837dcf0'),\n",
       " ObjectId('57e200606df1501eb837dcf1'),\n",
       " ObjectId('57e200606df1501eb837dcf2'),\n",
       " ObjectId('57e200606df1501eb837dcf3'),\n",
       " ObjectId('57e200606df1501eb837dcf4'),\n",
       " ObjectId('57e200606df1501eb837dcf5'),\n",
       " ObjectId('57e200606df1501eb837dcf6'),\n",
       " ObjectId('57e200606df1501eb837dcf7'),\n",
       " ObjectId('57e200606df1501eb837dcf8'),\n",
       " ObjectId('57e200606df1501eb837dcf9'),\n",
       " ObjectId('57e200606df1501eb837dcfa'),\n",
       " ObjectId('57e200606df1501eb837dcfb'),\n",
       " ObjectId('57e200606df1501eb837dcfc'),\n",
       " ObjectId('57e200606df1501eb837dcfd'),\n",
       " ObjectId('57e200606df1501eb837dcfe'),\n",
       " ObjectId('57e200606df1501eb837dcff'),\n",
       " ObjectId('57e200606df1501eb837dd00'),\n",
       " ObjectId('57e200606df1501eb837dd01'),\n",
       " ObjectId('57e200606df1501eb837dd02'),\n",
       " ObjectId('57e200606df1501eb837dd03'),\n",
       " ObjectId('57e200606df1501eb837dd04'),\n",
       " ObjectId('57e200606df1501eb837dd05'),\n",
       " ObjectId('57e200606df1501eb837dd06'),\n",
       " ObjectId('57e200606df1501eb837dd07'),\n",
       " ObjectId('57e200606df1501eb837dd08'),\n",
       " ObjectId('57e200606df1501eb837dd09'),\n",
       " ObjectId('57e200606df1501eb837dd0a'),\n",
       " ObjectId('57e200606df1501eb837dd0b'),\n",
       " ObjectId('57e200606df1501eb837dd0c'),\n",
       " ObjectId('57e200606df1501eb837dd0d'),\n",
       " ObjectId('57e200606df1501eb837dd0e'),\n",
       " ObjectId('57e200606df1501eb837dd0f'),\n",
       " ObjectId('57e200606df1501eb837dd10'),\n",
       " ObjectId('57e200606df1501eb837dd11'),\n",
       " ObjectId('57e200606df1501eb837dd12'),\n",
       " ObjectId('57e200606df1501eb837dd13'),\n",
       " ObjectId('57e200606df1501eb837dd14'),\n",
       " ObjectId('57e200606df1501eb837dd15'),\n",
       " ObjectId('57e200606df1501eb837dd16'),\n",
       " ObjectId('57e200606df1501eb837dd17'),\n",
       " ObjectId('57e200606df1501eb837dd18'),\n",
       " ObjectId('57e200606df1501eb837dd19'),\n",
       " ObjectId('57e200606df1501eb837dd1a'),\n",
       " ObjectId('57e200606df1501eb837dd1b'),\n",
       " ObjectId('57e200606df1501eb837dd1c'),\n",
       " ObjectId('57e200606df1501eb837dd1d'),\n",
       " ObjectId('57e200606df1501eb837dd1e'),\n",
       " ObjectId('57e200606df1501eb837dd1f'),\n",
       " ObjectId('57e200606df1501eb837dd20'),\n",
       " ObjectId('57e200606df1501eb837dd21'),\n",
       " ObjectId('57e200606df1501eb837dd22'),\n",
       " ObjectId('57e200606df1501eb837dd23'),\n",
       " ObjectId('57e200606df1501eb837dd24'),\n",
       " ObjectId('57e200606df1501eb837dd25'),\n",
       " ObjectId('57e200606df1501eb837dd26'),\n",
       " ObjectId('57e200606df1501eb837dd27'),\n",
       " ObjectId('57e200606df1501eb837dd28'),\n",
       " ObjectId('57e200606df1501eb837dd29'),\n",
       " ObjectId('57e200606df1501eb837dd2a'),\n",
       " ObjectId('57e200606df1501eb837dd2b'),\n",
       " ObjectId('57e200606df1501eb837dd2c'),\n",
       " ObjectId('57e200606df1501eb837dd2d'),\n",
       " ObjectId('57e200606df1501eb837dd2e'),\n",
       " ObjectId('57e200606df1501eb837dd2f'),\n",
       " ObjectId('57e200606df1501eb837dd30'),\n",
       " ObjectId('57e200606df1501eb837dd31'),\n",
       " ObjectId('57e200606df1501eb837dd32'),\n",
       " ObjectId('57e200606df1501eb837dd33'),\n",
       " ObjectId('57e200606df1501eb837dd34'),\n",
       " ObjectId('57e200606df1501eb837dd35'),\n",
       " ObjectId('57e200606df1501eb837dd36'),\n",
       " ObjectId('57e200606df1501eb837dd37'),\n",
       " ObjectId('57e200606df1501eb837dd38'),\n",
       " ObjectId('57e200606df1501eb837dd39'),\n",
       " ObjectId('57e200606df1501eb837dd3a'),\n",
       " ObjectId('57e200606df1501eb837dd3b'),\n",
       " ObjectId('57e200606df1501eb837dd3c'),\n",
       " ObjectId('57e200606df1501eb837dd3d'),\n",
       " ObjectId('57e200606df1501eb837dd3e'),\n",
       " ObjectId('57e200606df1501eb837dd3f'),\n",
       " ObjectId('57e200606df1501eb837dd40'),\n",
       " ObjectId('57e200606df1501eb837dd41'),\n",
       " ObjectId('57e200606df1501eb837dd42'),\n",
       " ObjectId('57e200606df1501eb837dd43'),\n",
       " ObjectId('57e200606df1501eb837dd44'),\n",
       " ObjectId('57e200606df1501eb837dd45'),\n",
       " ObjectId('57e200606df1501eb837dd46'),\n",
       " ObjectId('57e200606df1501eb837dd47'),\n",
       " ObjectId('57e200606df1501eb837dd48'),\n",
       " ObjectId('57e200606df1501eb837dd49'),\n",
       " ObjectId('57e200606df1501eb837dd4a'),\n",
       " ObjectId('57e200606df1501eb837dd4b'),\n",
       " ObjectId('57e200606df1501eb837dd4c'),\n",
       " ObjectId('57e200606df1501eb837dd4d'),\n",
       " ObjectId('57e200606df1501eb837dd4e'),\n",
       " ObjectId('57e200606df1501eb837dd4f'),\n",
       " ObjectId('57e200606df1501eb837dd50'),\n",
       " ObjectId('57e200606df1501eb837dd51'),\n",
       " ObjectId('57e200606df1501eb837dd52'),\n",
       " ObjectId('57e200606df1501eb837dd53'),\n",
       " ObjectId('57e200606df1501eb837dd54'),\n",
       " ObjectId('57e200606df1501eb837dd55'),\n",
       " ObjectId('57e200606df1501eb837dd56'),\n",
       " ObjectId('57e200606df1501eb837dd57'),\n",
       " ObjectId('57e200606df1501eb837dd58'),\n",
       " ObjectId('57e200606df1501eb837dd59'),\n",
       " ObjectId('57e200606df1501eb837dd5a'),\n",
       " ObjectId('57e200606df1501eb837dd5b'),\n",
       " ObjectId('57e200606df1501eb837dd5c'),\n",
       " ObjectId('57e200606df1501eb837dd5d'),\n",
       " ObjectId('57e200606df1501eb837dd5e'),\n",
       " ObjectId('57e200606df1501eb837dd5f'),\n",
       " ObjectId('57e200606df1501eb837dd60'),\n",
       " ObjectId('57e200606df1501eb837dd61'),\n",
       " ObjectId('57e200606df1501eb837dd62'),\n",
       " ObjectId('57e200606df1501eb837dd63'),\n",
       " ObjectId('57e200606df1501eb837dd64'),\n",
       " ObjectId('57e200606df1501eb837dd65'),\n",
       " ObjectId('57e200606df1501eb837dd66'),\n",
       " ObjectId('57e200606df1501eb837dd67'),\n",
       " ObjectId('57e200606df1501eb837dd68'),\n",
       " ObjectId('57e200606df1501eb837dd69'),\n",
       " ObjectId('57e200606df1501eb837dd6a'),\n",
       " ObjectId('57e200606df1501eb837dd6b'),\n",
       " ObjectId('57e200606df1501eb837dd6c'),\n",
       " ObjectId('57e200606df1501eb837dd6d'),\n",
       " ObjectId('57e200606df1501eb837dd6e'),\n",
       " ObjectId('57e200606df1501eb837dd6f'),\n",
       " ObjectId('57e200606df1501eb837dd70'),\n",
       " ObjectId('57e200606df1501eb837dd71'),\n",
       " ObjectId('57e200606df1501eb837dd72'),\n",
       " ObjectId('57e200606df1501eb837dd73'),\n",
       " ObjectId('57e200606df1501eb837dd74'),\n",
       " ObjectId('57e200606df1501eb837dd75'),\n",
       " ObjectId('57e200606df1501eb837dd76'),\n",
       " ObjectId('57e200606df1501eb837dd77'),\n",
       " ObjectId('57e200606df1501eb837dd78'),\n",
       " ObjectId('57e200606df1501eb837dd79'),\n",
       " ObjectId('57e200606df1501eb837dd7a'),\n",
       " ObjectId('57e200606df1501eb837dd7b'),\n",
       " ObjectId('57e200606df1501eb837dd7c'),\n",
       " ObjectId('57e200606df1501eb837dd7d'),\n",
       " ObjectId('57e200606df1501eb837dd7e'),\n",
       " ObjectId('57e200606df1501eb837dd7f'),\n",
       " ObjectId('57e200606df1501eb837dd80'),\n",
       " ObjectId('57e200606df1501eb837dd81'),\n",
       " ObjectId('57e200606df1501eb837dd82'),\n",
       " ObjectId('57e200606df1501eb837dd83'),\n",
       " ObjectId('57e200606df1501eb837dd84'),\n",
       " ObjectId('57e200606df1501eb837dd85'),\n",
       " ObjectId('57e200606df1501eb837dd86'),\n",
       " ObjectId('57e200606df1501eb837dd87'),\n",
       " ObjectId('57e200606df1501eb837dd88'),\n",
       " ObjectId('57e200606df1501eb837dd89'),\n",
       " ObjectId('57e200606df1501eb837dd8a'),\n",
       " ObjectId('57e200606df1501eb837dd8b'),\n",
       " ObjectId('57e200606df1501eb837dd8c'),\n",
       " ObjectId('57e200606df1501eb837dd8d'),\n",
       " ObjectId('57e200606df1501eb837dd8e'),\n",
       " ObjectId('57e200606df1501eb837dd8f'),\n",
       " ObjectId('57e200606df1501eb837dd90'),\n",
       " ObjectId('57e200606df1501eb837dd91'),\n",
       " ObjectId('57e200606df1501eb837dd92'),\n",
       " ObjectId('57e200606df1501eb837dd93'),\n",
       " ObjectId('57e200606df1501eb837dd94'),\n",
       " ObjectId('57e200606df1501eb837dd95'),\n",
       " ObjectId('57e200606df1501eb837dd96'),\n",
       " ObjectId('57e200606df1501eb837dd97'),\n",
       " ObjectId('57e200606df1501eb837dd98'),\n",
       " ObjectId('57e200606df1501eb837dd99'),\n",
       " ObjectId('57e200606df1501eb837dd9a'),\n",
       " ObjectId('57e200606df1501eb837dd9b'),\n",
       " ObjectId('57e200606df1501eb837dd9c'),\n",
       " ObjectId('57e200606df1501eb837dd9d'),\n",
       " ObjectId('57e200606df1501eb837dd9e'),\n",
       " ObjectId('57e200606df1501eb837dd9f'),\n",
       " ObjectId('57e200606df1501eb837dda0'),\n",
       " ObjectId('57e200606df1501eb837dda1'),\n",
       " ObjectId('57e200606df1501eb837dda2'),\n",
       " ObjectId('57e200606df1501eb837dda3'),\n",
       " ObjectId('57e200606df1501eb837dda4'),\n",
       " ObjectId('57e200606df1501eb837dda5'),\n",
       " ObjectId('57e200606df1501eb837dda6'),\n",
       " ObjectId('57e200606df1501eb837dda7'),\n",
       " ObjectId('57e200606df1501eb837dda8'),\n",
       " ObjectId('57e200606df1501eb837dda9'),\n",
       " ObjectId('57e200606df1501eb837ddaa'),\n",
       " ObjectId('57e200606df1501eb837ddab'),\n",
       " ObjectId('57e200606df1501eb837ddac'),\n",
       " ObjectId('57e200606df1501eb837ddad'),\n",
       " ObjectId('57e200606df1501eb837ddae'),\n",
       " ObjectId('57e200606df1501eb837ddaf'),\n",
       " ObjectId('57e200606df1501eb837ddb0'),\n",
       " ObjectId('57e200606df1501eb837ddb1'),\n",
       " ObjectId('57e200606df1501eb837ddb2'),\n",
       " ObjectId('57e200606df1501eb837ddb3'),\n",
       " ObjectId('57e200606df1501eb837ddb4'),\n",
       " ObjectId('57e200606df1501eb837ddb5'),\n",
       " ObjectId('57e200606df1501eb837ddb6'),\n",
       " ObjectId('57e200606df1501eb837ddb7'),\n",
       " ObjectId('57e200606df1501eb837ddb8'),\n",
       " ObjectId('57e200606df1501eb837ddb9'),\n",
       " ObjectId('57e200606df1501eb837ddba'),\n",
       " ObjectId('57e200606df1501eb837ddbb'),\n",
       " ObjectId('57e200606df1501eb837ddbc'),\n",
       " ObjectId('57e200606df1501eb837ddbd'),\n",
       " ObjectId('57e200606df1501eb837ddbe'),\n",
       " ObjectId('57e200606df1501eb837ddbf'),\n",
       " ObjectId('57e200606df1501eb837ddc0'),\n",
       " ObjectId('57e200606df1501eb837ddc1'),\n",
       " ObjectId('57e200606df1501eb837ddc2'),\n",
       " ObjectId('57e200606df1501eb837ddc3'),\n",
       " ObjectId('57e200606df1501eb837ddc4'),\n",
       " ObjectId('57e200606df1501eb837ddc5'),\n",
       " ObjectId('57e200606df1501eb837ddc6'),\n",
       " ObjectId('57e200606df1501eb837ddc7'),\n",
       " ObjectId('57e200606df1501eb837ddc8'),\n",
       " ObjectId('57e200606df1501eb837ddc9'),\n",
       " ObjectId('57e200606df1501eb837ddca'),\n",
       " ObjectId('57e200606df1501eb837ddcb'),\n",
       " ObjectId('57e200606df1501eb837ddcc'),\n",
       " ObjectId('57e200606df1501eb837ddcd'),\n",
       " ObjectId('57e200606df1501eb837ddce'),\n",
       " ObjectId('57e200606df1501eb837ddcf'),\n",
       " ObjectId('57e200606df1501eb837ddd0'),\n",
       " ObjectId('57e200606df1501eb837ddd1'),\n",
       " ObjectId('57e200606df1501eb837ddd2'),\n",
       " ObjectId('57e200606df1501eb837ddd3'),\n",
       " ObjectId('57e200606df1501eb837ddd4'),\n",
       " ObjectId('57e200606df1501eb837ddd5'),\n",
       " ObjectId('57e200606df1501eb837ddd6'),\n",
       " ObjectId('57e200606df1501eb837ddd7'),\n",
       " ObjectId('57e200606df1501eb837ddd8'),\n",
       " ObjectId('57e200606df1501eb837ddd9'),\n",
       " ObjectId('57e200606df1501eb837ddda'),\n",
       " ObjectId('57e200606df1501eb837dddb'),\n",
       " ObjectId('57e200606df1501eb837dddc'),\n",
       " ObjectId('57e200606df1501eb837dddd'),\n",
       " ObjectId('57e200606df1501eb837ddde'),\n",
       " ObjectId('57e200606df1501eb837dddf'),\n",
       " ObjectId('57e200606df1501eb837dde0'),\n",
       " ObjectId('57e200606df1501eb837dde1'),\n",
       " ObjectId('57e200606df1501eb837dde2'),\n",
       " ObjectId('57e200606df1501eb837dde3'),\n",
       " ObjectId('57e200606df1501eb837dde4'),\n",
       " ObjectId('57e200606df1501eb837dde5'),\n",
       " ObjectId('57e200606df1501eb837dde6'),\n",
       " ObjectId('57e200606df1501eb837dde7'),\n",
       " ObjectId('57e200606df1501eb837dde8'),\n",
       " ObjectId('57e200606df1501eb837dde9'),\n",
       " ObjectId('57e200606df1501eb837ddea'),\n",
       " ObjectId('57e200606df1501eb837ddeb'),\n",
       " ObjectId('57e200606df1501eb837ddec'),\n",
       " ObjectId('57e200606df1501eb837dded'),\n",
       " ObjectId('57e200606df1501eb837ddee'),\n",
       " ObjectId('57e200606df1501eb837ddef'),\n",
       " ObjectId('57e200606df1501eb837ddf0'),\n",
       " ObjectId('57e200606df1501eb837ddf1'),\n",
       " ObjectId('57e200606df1501eb837ddf2'),\n",
       " ObjectId('57e200606df1501eb837ddf3'),\n",
       " ObjectId('57e200606df1501eb837ddf4'),\n",
       " ObjectId('57e200606df1501eb837ddf5'),\n",
       " ObjectId('57e200606df1501eb837ddf6'),\n",
       " ObjectId('57e200606df1501eb837ddf7'),\n",
       " ObjectId('57e200606df1501eb837ddf8'),\n",
       " ObjectId('57e200606df1501eb837ddf9'),\n",
       " ObjectId('57e200606df1501eb837ddfa'),\n",
       " ObjectId('57e200606df1501eb837ddfb'),\n",
       " ObjectId('57e200606df1501eb837ddfc'),\n",
       " ObjectId('57e200606df1501eb837ddfd'),\n",
       " ObjectId('57e200606df1501eb837ddfe'),\n",
       " ObjectId('57e200606df1501eb837ddff'),\n",
       " ObjectId('57e200606df1501eb837de00'),\n",
       " ObjectId('57e200606df1501eb837de01'),\n",
       " ObjectId('57e200606df1501eb837de02'),\n",
       " ObjectId('57e200606df1501eb837de03'),\n",
       " ObjectId('57e200606df1501eb837de04'),\n",
       " ObjectId('57e200606df1501eb837de05'),\n",
       " ObjectId('57e200606df1501eb837de06'),\n",
       " ObjectId('57e200606df1501eb837de07'),\n",
       " ObjectId('57e200606df1501eb837de08'),\n",
       " ObjectId('57e200606df1501eb837de09'),\n",
       " ObjectId('57e200606df1501eb837de0a'),\n",
       " ObjectId('57e200606df1501eb837de0b'),\n",
       " ObjectId('57e200606df1501eb837de0c'),\n",
       " ObjectId('57e200606df1501eb837de0d'),\n",
       " ObjectId('57e200606df1501eb837de0e'),\n",
       " ObjectId('57e200606df1501eb837de0f'),\n",
       " ObjectId('57e200606df1501eb837de10'),\n",
       " ObjectId('57e200606df1501eb837de11'),\n",
       " ObjectId('57e200606df1501eb837de12'),\n",
       " ObjectId('57e200606df1501eb837de13'),\n",
       " ObjectId('57e200606df1501eb837de14'),\n",
       " ObjectId('57e200606df1501eb837de15'),\n",
       " ObjectId('57e200606df1501eb837de16'),\n",
       " ObjectId('57e200606df1501eb837de17'),\n",
       " ObjectId('57e200606df1501eb837de18'),\n",
       " ObjectId('57e200606df1501eb837de19'),\n",
       " ObjectId('57e200606df1501eb837de1a'),\n",
       " ObjectId('57e200606df1501eb837de1b'),\n",
       " ObjectId('57e200606df1501eb837de1c'),\n",
       " ObjectId('57e200606df1501eb837de1d'),\n",
       " ObjectId('57e200606df1501eb837de1e'),\n",
       " ObjectId('57e200606df1501eb837de1f'),\n",
       " ObjectId('57e200606df1501eb837de20'),\n",
       " ObjectId('57e200606df1501eb837de21'),\n",
       " ObjectId('57e200606df1501eb837de22'),\n",
       " ObjectId('57e200606df1501eb837de23'),\n",
       " ObjectId('57e200606df1501eb837de24'),\n",
       " ObjectId('57e200606df1501eb837de25'),\n",
       " ObjectId('57e200606df1501eb837de26'),\n",
       " ObjectId('57e200606df1501eb837de27'),\n",
       " ObjectId('57e200606df1501eb837de28'),\n",
       " ObjectId('57e200606df1501eb837de29'),\n",
       " ObjectId('57e200606df1501eb837de2a'),\n",
       " ObjectId('57e200606df1501eb837de2b'),\n",
       " ObjectId('57e200606df1501eb837de2c'),\n",
       " ObjectId('57e200606df1501eb837de2d'),\n",
       " ObjectId('57e200606df1501eb837de2e'),\n",
       " ObjectId('57e200606df1501eb837de2f'),\n",
       " ObjectId('57e200606df1501eb837de30'),\n",
       " ObjectId('57e200606df1501eb837de31'),\n",
       " ObjectId('57e200606df1501eb837de32'),\n",
       " ObjectId('57e200606df1501eb837de33'),\n",
       " ObjectId('57e200606df1501eb837de34'),\n",
       " ObjectId('57e200606df1501eb837de35'),\n",
       " ObjectId('57e200606df1501eb837de36'),\n",
       " ObjectId('57e200606df1501eb837de37'),\n",
       " ObjectId('57e200606df1501eb837de38'),\n",
       " ObjectId('57e200606df1501eb837de39'),\n",
       " ObjectId('57e200606df1501eb837de3a'),\n",
       " ObjectId('57e200606df1501eb837de3b'),\n",
       " ObjectId('57e200606df1501eb837de3c'),\n",
       " ObjectId('57e200606df1501eb837de3d'),\n",
       " ObjectId('57e200606df1501eb837de3e'),\n",
       " ObjectId('57e200606df1501eb837de3f'),\n",
       " ObjectId('57e200606df1501eb837de40'),\n",
       " ObjectId('57e200606df1501eb837de41'),\n",
       " ObjectId('57e200606df1501eb837de42'),\n",
       " ObjectId('57e200606df1501eb837de43'),\n",
       " ObjectId('57e200606df1501eb837de44'),\n",
       " ObjectId('57e200606df1501eb837de45'),\n",
       " ObjectId('57e200606df1501eb837de46'),\n",
       " ObjectId('57e200606df1501eb837de47'),\n",
       " ObjectId('57e200606df1501eb837de48'),\n",
       " ObjectId('57e200606df1501eb837de49'),\n",
       " ObjectId('57e200606df1501eb837de4a'),\n",
       " ObjectId('57e200606df1501eb837de4b'),\n",
       " ObjectId('57e200606df1501eb837de4c'),\n",
       " ObjectId('57e200606df1501eb837de4d'),\n",
       " ObjectId('57e200606df1501eb837de4e'),\n",
       " ObjectId('57e200606df1501eb837de4f'),\n",
       " ObjectId('57e200606df1501eb837de50'),\n",
       " ObjectId('57e200606df1501eb837de51'),\n",
       " ObjectId('57e200606df1501eb837de52'),\n",
       " ObjectId('57e200606df1501eb837de53'),\n",
       " ObjectId('57e200606df1501eb837de54'),\n",
       " ObjectId('57e200606df1501eb837de55'),\n",
       " ObjectId('57e200606df1501eb837de56'),\n",
       " ObjectId('57e200606df1501eb837de57'),\n",
       " ObjectId('57e200606df1501eb837de58'),\n",
       " ObjectId('57e200606df1501eb837de59'),\n",
       " ObjectId('57e200606df1501eb837de5a'),\n",
       " ObjectId('57e200606df1501eb837de5b'),\n",
       " ObjectId('57e200606df1501eb837de5c'),\n",
       " ObjectId('57e200606df1501eb837de5d'),\n",
       " ObjectId('57e200606df1501eb837de5e'),\n",
       " ObjectId('57e200606df1501eb837de5f'),\n",
       " ObjectId('57e200606df1501eb837de60'),\n",
       " ObjectId('57e200606df1501eb837de61'),\n",
       " ObjectId('57e200606df1501eb837de62'),\n",
       " ObjectId('57e200606df1501eb837de63'),\n",
       " ObjectId('57e200606df1501eb837de64'),\n",
       " ObjectId('57e200606df1501eb837de65'),\n",
       " ObjectId('57e200606df1501eb837de66'),\n",
       " ObjectId('57e200606df1501eb837de67'),\n",
       " ObjectId('57e200606df1501eb837de68'),\n",
       " ObjectId('57e200606df1501eb837de69'),\n",
       " ObjectId('57e200606df1501eb837de6a'),\n",
       " ObjectId('57e200606df1501eb837de6b'),\n",
       " ObjectId('57e200606df1501eb837de6c'),\n",
       " ObjectId('57e200606df1501eb837de6d'),\n",
       " ObjectId('57e200606df1501eb837de6e'),\n",
       " ObjectId('57e200606df1501eb837de6f'),\n",
       " ObjectId('57e200606df1501eb837de70'),\n",
       " ObjectId('57e200606df1501eb837de71'),\n",
       " ObjectId('57e200606df1501eb837de72'),\n",
       " ObjectId('57e200606df1501eb837de73'),\n",
       " ObjectId('57e200606df1501eb837de74'),\n",
       " ObjectId('57e200606df1501eb837de75'),\n",
       " ObjectId('57e200606df1501eb837de76'),\n",
       " ObjectId('57e200606df1501eb837de77'),\n",
       " ObjectId('57e200606df1501eb837de78'),\n",
       " ObjectId('57e200606df1501eb837de79'),\n",
       " ObjectId('57e200606df1501eb837de7a'),\n",
       " ObjectId('57e200606df1501eb837de7b'),\n",
       " ObjectId('57e200606df1501eb837de7c'),\n",
       " ObjectId('57e200606df1501eb837de7d'),\n",
       " ObjectId('57e200606df1501eb837de7e'),\n",
       " ObjectId('57e200606df1501eb837de7f'),\n",
       " ObjectId('57e200606df1501eb837de80'),\n",
       " ObjectId('57e200606df1501eb837de81'),\n",
       " ObjectId('57e200606df1501eb837de82'),\n",
       " ObjectId('57e200606df1501eb837de83'),\n",
       " ObjectId('57e200606df1501eb837de84'),\n",
       " ObjectId('57e200606df1501eb837de85'),\n",
       " ObjectId('57e200606df1501eb837de86'),\n",
       " ObjectId('57e200606df1501eb837de87'),\n",
       " ObjectId('57e200606df1501eb837de88'),\n",
       " ObjectId('57e200606df1501eb837de89'),\n",
       " ObjectId('57e200606df1501eb837de8a'),\n",
       " ObjectId('57e200606df1501eb837de8b'),\n",
       " ObjectId('57e200606df1501eb837de8c'),\n",
       " ObjectId('57e200606df1501eb837de8d'),\n",
       " ObjectId('57e200606df1501eb837de8e'),\n",
       " ObjectId('57e200606df1501eb837de8f'),\n",
       " ObjectId('57e200606df1501eb837de90'),\n",
       " ObjectId('57e200606df1501eb837de91'),\n",
       " ObjectId('57e200606df1501eb837de92'),\n",
       " ObjectId('57e200606df1501eb837de93'),\n",
       " ObjectId('57e200606df1501eb837de94'),\n",
       " ObjectId('57e200606df1501eb837de95'),\n",
       " ObjectId('57e200606df1501eb837de96'),\n",
       " ObjectId('57e200606df1501eb837de97'),\n",
       " ObjectId('57e200606df1501eb837de98'),\n",
       " ObjectId('57e200606df1501eb837de99'),\n",
       " ObjectId('57e200606df1501eb837de9a'),\n",
       " ObjectId('57e200606df1501eb837de9b'),\n",
       " ObjectId('57e200606df1501eb837de9c'),\n",
       " ObjectId('57e200606df1501eb837de9d'),\n",
       " ObjectId('57e200606df1501eb837de9e'),\n",
       " ObjectId('57e200606df1501eb837de9f'),\n",
       " ObjectId('57e200606df1501eb837dea0'),\n",
       " ObjectId('57e200606df1501eb837dea1'),\n",
       " ObjectId('57e200606df1501eb837dea2'),\n",
       " ObjectId('57e200606df1501eb837dea3'),\n",
       " ObjectId('57e200606df1501eb837dea4'),\n",
       " ObjectId('57e200606df1501eb837dea5'),\n",
       " ObjectId('57e200606df1501eb837dea6'),\n",
       " ObjectId('57e200606df1501eb837dea7'),\n",
       " ObjectId('57e200606df1501eb837dea8'),\n",
       " ObjectId('57e200606df1501eb837dea9'),\n",
       " ObjectId('57e200606df1501eb837deaa'),\n",
       " ObjectId('57e200606df1501eb837deab'),\n",
       " ObjectId('57e200606df1501eb837deac'),\n",
       " ObjectId('57e200606df1501eb837dead'),\n",
       " ObjectId('57e200606df1501eb837deae'),\n",
       " ObjectId('57e200606df1501eb837deaf'),\n",
       " ObjectId('57e200606df1501eb837deb0'),\n",
       " ObjectId('57e200606df1501eb837deb1'),\n",
       " ObjectId('57e200606df1501eb837deb2'),\n",
       " ObjectId('57e200606df1501eb837deb3'),\n",
       " ObjectId('57e200606df1501eb837deb4'),\n",
       " ObjectId('57e200606df1501eb837deb5'),\n",
       " ObjectId('57e200606df1501eb837deb6'),\n",
       " ObjectId('57e200606df1501eb837deb7'),\n",
       " ObjectId('57e200606df1501eb837deb8'),\n",
       " ObjectId('57e200606df1501eb837deb9'),\n",
       " ObjectId('57e200606df1501eb837deba'),\n",
       " ObjectId('57e200606df1501eb837debb'),\n",
       " ObjectId('57e200606df1501eb837debc'),\n",
       " ObjectId('57e200606df1501eb837debd'),\n",
       " ObjectId('57e200606df1501eb837debe'),\n",
       " ObjectId('57e200606df1501eb837debf'),\n",
       " ObjectId('57e200606df1501eb837dec0'),\n",
       " ObjectId('57e200606df1501eb837dec1'),\n",
       " ObjectId('57e200606df1501eb837dec2'),\n",
       " ObjectId('57e200606df1501eb837dec3'),\n",
       " ObjectId('57e200606df1501eb837dec4'),\n",
       " ObjectId('57e200606df1501eb837dec5'),\n",
       " ObjectId('57e200606df1501eb837dec6'),\n",
       " ObjectId('57e200606df1501eb837dec7'),\n",
       " ObjectId('57e200606df1501eb837dec8'),\n",
       " ObjectId('57e200606df1501eb837dec9'),\n",
       " ObjectId('57e200606df1501eb837deca'),\n",
       " ObjectId('57e200606df1501eb837decb'),\n",
       " ObjectId('57e200606df1501eb837decc'),\n",
       " ObjectId('57e200606df1501eb837decd'),\n",
       " ObjectId('57e200606df1501eb837dece'),\n",
       " ObjectId('57e200606df1501eb837decf'),\n",
       " ObjectId('57e200606df1501eb837ded0'),\n",
       " ObjectId('57e200606df1501eb837ded1'),\n",
       " ObjectId('57e200606df1501eb837ded2'),\n",
       " ObjectId('57e200606df1501eb837ded3'),\n",
       " ObjectId('57e200606df1501eb837ded4'),\n",
       " ObjectId('57e200606df1501eb837ded5'),\n",
       " ObjectId('57e200606df1501eb837ded6'),\n",
       " ObjectId('57e200606df1501eb837ded7'),\n",
       " ObjectId('57e200606df1501eb837ded8'),\n",
       " ObjectId('57e200606df1501eb837ded9'),\n",
       " ObjectId('57e200606df1501eb837deda'),\n",
       " ObjectId('57e200606df1501eb837dedb'),\n",
       " ObjectId('57e200606df1501eb837dedc'),\n",
       " ObjectId('57e200606df1501eb837dedd'),\n",
       " ObjectId('57e200606df1501eb837dede'),\n",
       " ObjectId('57e200606df1501eb837dedf'),\n",
       " ObjectId('57e200606df1501eb837dee0'),\n",
       " ObjectId('57e200606df1501eb837dee1'),\n",
       " ObjectId('57e200606df1501eb837dee2'),\n",
       " ObjectId('57e200606df1501eb837dee3'),\n",
       " ObjectId('57e200606df1501eb837dee4'),\n",
       " ObjectId('57e200606df1501eb837dee5'),\n",
       " ObjectId('57e200606df1501eb837dee6'),\n",
       " ObjectId('57e200606df1501eb837dee7'),\n",
       " ObjectId('57e200606df1501eb837dee8'),\n",
       " ObjectId('57e200606df1501eb837dee9'),\n",
       " ObjectId('57e200606df1501eb837deea'),\n",
       " ObjectId('57e200606df1501eb837deeb'),\n",
       " ObjectId('57e200606df1501eb837deec'),\n",
       " ObjectId('57e200606df1501eb837deed'),\n",
       " ObjectId('57e200606df1501eb837deee'),\n",
       " ObjectId('57e200606df1501eb837deef'),\n",
       " ObjectId('57e200606df1501eb837def0'),\n",
       " ObjectId('57e200606df1501eb837def1'),\n",
       " ObjectId('57e200606df1501eb837def2'),\n",
       " ObjectId('57e200606df1501eb837def3'),\n",
       " ObjectId('57e200606df1501eb837def4'),\n",
       " ObjectId('57e200606df1501eb837def5'),\n",
       " ObjectId('57e200606df1501eb837def6'),\n",
       " ObjectId('57e200606df1501eb837def7'),\n",
       " ObjectId('57e200606df1501eb837def8'),\n",
       " ObjectId('57e200606df1501eb837def9'),\n",
       " ObjectId('57e200606df1501eb837defa'),\n",
       " ObjectId('57e200606df1501eb837defb'),\n",
       " ObjectId('57e200606df1501eb837defc'),\n",
       " ObjectId('57e200606df1501eb837defd'),\n",
       " ObjectId('57e200606df1501eb837defe'),\n",
       " ObjectId('57e200606df1501eb837deff'),\n",
       " ObjectId('57e200606df1501eb837df00'),\n",
       " ObjectId('57e200606df1501eb837df01'),\n",
       " ObjectId('57e200606df1501eb837df02'),\n",
       " ObjectId('57e200606df1501eb837df03'),\n",
       " ObjectId('57e200606df1501eb837df04'),\n",
       " ObjectId('57e200606df1501eb837df05'),\n",
       " ObjectId('57e200606df1501eb837df06'),\n",
       " ObjectId('57e200606df1501eb837df07'),\n",
       " ObjectId('57e200606df1501eb837df08'),\n",
       " ObjectId('57e200606df1501eb837df09'),\n",
       " ObjectId('57e200606df1501eb837df0a'),\n",
       " ObjectId('57e200606df1501eb837df0b'),\n",
       " ObjectId('57e200606df1501eb837df0c'),\n",
       " ObjectId('57e200606df1501eb837df0d'),\n",
       " ObjectId('57e200606df1501eb837df0e'),\n",
       " ObjectId('57e200606df1501eb837df0f'),\n",
       " ObjectId('57e200606df1501eb837df10'),\n",
       " ObjectId('57e200606df1501eb837df11'),\n",
       " ObjectId('57e200606df1501eb837df12'),\n",
       " ObjectId('57e200606df1501eb837df13'),\n",
       " ObjectId('57e200606df1501eb837df14'),\n",
       " ObjectId('57e200606df1501eb837df15'),\n",
       " ObjectId('57e200606df1501eb837df16'),\n",
       " ObjectId('57e200606df1501eb837df17'),\n",
       " ObjectId('57e200606df1501eb837df18'),\n",
       " ObjectId('57e200606df1501eb837df19'),\n",
       " ObjectId('57e200606df1501eb837df1a'),\n",
       " ObjectId('57e200606df1501eb837df1b'),\n",
       " ObjectId('57e200606df1501eb837df1c'),\n",
       " ObjectId('57e200606df1501eb837df1d'),\n",
       " ObjectId('57e200606df1501eb837df1e'),\n",
       " ObjectId('57e200606df1501eb837df1f'),\n",
       " ObjectId('57e200606df1501eb837df20'),\n",
       " ObjectId('57e200606df1501eb837df21'),\n",
       " ObjectId('57e200606df1501eb837df22'),\n",
       " ObjectId('57e200606df1501eb837df23'),\n",
       " ObjectId('57e200606df1501eb837df24'),\n",
       " ObjectId('57e200606df1501eb837df25'),\n",
       " ObjectId('57e200606df1501eb837df26'),\n",
       " ObjectId('57e200606df1501eb837df27'),\n",
       " ObjectId('57e200606df1501eb837df28'),\n",
       " ObjectId('57e200606df1501eb837df29'),\n",
       " ObjectId('57e200606df1501eb837df2a'),\n",
       " ObjectId('57e200606df1501eb837df2b'),\n",
       " ObjectId('57e200606df1501eb837df2c'),\n",
       " ObjectId('57e200606df1501eb837df2d'),\n",
       " ObjectId('57e200606df1501eb837df2e'),\n",
       " ObjectId('57e200606df1501eb837df2f'),\n",
       " ObjectId('57e200606df1501eb837df30'),\n",
       " ObjectId('57e200606df1501eb837df31'),\n",
       " ObjectId('57e200606df1501eb837df32'),\n",
       " ObjectId('57e200606df1501eb837df33'),\n",
       " ObjectId('57e200606df1501eb837df34'),\n",
       " ObjectId('57e200606df1501eb837df35'),\n",
       " ObjectId('57e200606df1501eb837df36'),\n",
       " ObjectId('57e200606df1501eb837df37'),\n",
       " ObjectId('57e200606df1501eb837df38'),\n",
       " ObjectId('57e200606df1501eb837df39'),\n",
       " ObjectId('57e200606df1501eb837df3a'),\n",
       " ObjectId('57e200606df1501eb837df3b'),\n",
       " ObjectId('57e200606df1501eb837df3c'),\n",
       " ObjectId('57e200606df1501eb837df3d'),\n",
       " ObjectId('57e200606df1501eb837df3e'),\n",
       " ObjectId('57e200606df1501eb837df3f'),\n",
       " ObjectId('57e200606df1501eb837df40'),\n",
       " ObjectId('57e200606df1501eb837df41'),\n",
       " ObjectId('57e200606df1501eb837df42'),\n",
       " ObjectId('57e200606df1501eb837df43'),\n",
       " ObjectId('57e200606df1501eb837df44'),\n",
       " ObjectId('57e200606df1501eb837df45'),\n",
       " ObjectId('57e200606df1501eb837df46'),\n",
       " ObjectId('57e200606df1501eb837df47'),\n",
       " ObjectId('57e200606df1501eb837df48'),\n",
       " ObjectId('57e200606df1501eb837df49'),\n",
       " ObjectId('57e200606df1501eb837df4a'),\n",
       " ObjectId('57e200606df1501eb837df4b'),\n",
       " ObjectId('57e200606df1501eb837df4c'),\n",
       " ObjectId('57e200606df1501eb837df4d'),\n",
       " ObjectId('57e200606df1501eb837df4e'),\n",
       " ObjectId('57e200606df1501eb837df4f'),\n",
       " ObjectId('57e200606df1501eb837df50'),\n",
       " ObjectId('57e200606df1501eb837df51'),\n",
       " ObjectId('57e200606df1501eb837df52'),\n",
       " ObjectId('57e200606df1501eb837df53'),\n",
       " ObjectId('57e200606df1501eb837df54'),\n",
       " ObjectId('57e200606df1501eb837df55'),\n",
       " ObjectId('57e200606df1501eb837df56'),\n",
       " ObjectId('57e200606df1501eb837df57'),\n",
       " ObjectId('57e200606df1501eb837df58'),\n",
       " ObjectId('57e200606df1501eb837df59'),\n",
       " ObjectId('57e200606df1501eb837df5a'),\n",
       " ObjectId('57e200606df1501eb837df5b'),\n",
       " ObjectId('57e200606df1501eb837df5c'),\n",
       " ObjectId('57e200606df1501eb837df5d'),\n",
       " ObjectId('57e200606df1501eb837df5e'),\n",
       " ObjectId('57e200606df1501eb837df5f'),\n",
       " ObjectId('57e200606df1501eb837df60'),\n",
       " ObjectId('57e200606df1501eb837df61'),\n",
       " ObjectId('57e200606df1501eb837df62'),\n",
       " ObjectId('57e200606df1501eb837df63'),\n",
       " ObjectId('57e200606df1501eb837df64'),\n",
       " ObjectId('57e200606df1501eb837df65'),\n",
       " ObjectId('57e200606df1501eb837df66'),\n",
       " ObjectId('57e200606df1501eb837df67'),\n",
       " ObjectId('57e200606df1501eb837df68'),\n",
       " ObjectId('57e200606df1501eb837df69'),\n",
       " ObjectId('57e200606df1501eb837df6a'),\n",
       " ObjectId('57e200606df1501eb837df6b'),\n",
       " ObjectId('57e200606df1501eb837df6c'),\n",
       " ObjectId('57e200606df1501eb837df6d'),\n",
       " ObjectId('57e200606df1501eb837df6e'),\n",
       " ObjectId('57e200606df1501eb837df6f'),\n",
       " ObjectId('57e200606df1501eb837df70'),\n",
       " ObjectId('57e200606df1501eb837df71'),\n",
       " ObjectId('57e200606df1501eb837df72'),\n",
       " ObjectId('57e200606df1501eb837df73'),\n",
       " ObjectId('57e200606df1501eb837df74'),\n",
       " ObjectId('57e200606df1501eb837df75'),\n",
       " ObjectId('57e200606df1501eb837df76'),\n",
       " ObjectId('57e200606df1501eb837df77'),\n",
       " ObjectId('57e200606df1501eb837df78'),\n",
       " ObjectId('57e200606df1501eb837df79'),\n",
       " ObjectId('57e200606df1501eb837df7a'),\n",
       " ObjectId('57e200606df1501eb837df7b'),\n",
       " ObjectId('57e200606df1501eb837df7c'),\n",
       " ObjectId('57e200606df1501eb837df7d'),\n",
       " ObjectId('57e200606df1501eb837df7e'),\n",
       " ObjectId('57e200606df1501eb837df7f'),\n",
       " ObjectId('57e200606df1501eb837df80'),\n",
       " ObjectId('57e200606df1501eb837df81'),\n",
       " ObjectId('57e200606df1501eb837df82'),\n",
       " ObjectId('57e200606df1501eb837df83'),\n",
       " ObjectId('57e200606df1501eb837df84'),\n",
       " ObjectId('57e200606df1501eb837df85'),\n",
       " ObjectId('57e200606df1501eb837df86'),\n",
       " ObjectId('57e200606df1501eb837df87'),\n",
       " ObjectId('57e200606df1501eb837df88'),\n",
       " ObjectId('57e200606df1501eb837df89'),\n",
       " ObjectId('57e200606df1501eb837df8a'),\n",
       " ObjectId('57e200606df1501eb837df8b'),\n",
       " ObjectId('57e200606df1501eb837df8c'),\n",
       " ObjectId('57e200606df1501eb837df8d'),\n",
       " ObjectId('57e200606df1501eb837df8e'),\n",
       " ObjectId('57e200606df1501eb837df8f'),\n",
       " ObjectId('57e200606df1501eb837df90'),\n",
       " ObjectId('57e200606df1501eb837df91'),\n",
       " ObjectId('57e200606df1501eb837df92'),\n",
       " ObjectId('57e200606df1501eb837df93'),\n",
       " ObjectId('57e200606df1501eb837df94'),\n",
       " ObjectId('57e200606df1501eb837df95'),\n",
       " ObjectId('57e200606df1501eb837df96'),\n",
       " ObjectId('57e200606df1501eb837df97'),\n",
       " ObjectId('57e200606df1501eb837df98'),\n",
       " ObjectId('57e200606df1501eb837df99'),\n",
       " ObjectId('57e200606df1501eb837df9a'),\n",
       " ObjectId('57e200606df1501eb837df9b'),\n",
       " ObjectId('57e200606df1501eb837df9c'),\n",
       " ObjectId('57e200606df1501eb837df9d'),\n",
       " ObjectId('57e200606df1501eb837df9e'),\n",
       " ObjectId('57e200606df1501eb837df9f'),\n",
       " ObjectId('57e200606df1501eb837dfa0'),\n",
       " ObjectId('57e200606df1501eb837dfa1'),\n",
       " ObjectId('57e200606df1501eb837dfa2'),\n",
       " ObjectId('57e200606df1501eb837dfa3'),\n",
       " ObjectId('57e200606df1501eb837dfa4'),\n",
       " ObjectId('57e200606df1501eb837dfa5'),\n",
       " ObjectId('57e200606df1501eb837dfa6'),\n",
       " ObjectId('57e200606df1501eb837dfa7'),\n",
       " ObjectId('57e200606df1501eb837dfa8'),\n",
       " ObjectId('57e200606df1501eb837dfa9'),\n",
       " ObjectId('57e200606df1501eb837dfaa'),\n",
       " ObjectId('57e200606df1501eb837dfab'),\n",
       " ObjectId('57e200606df1501eb837dfac'),\n",
       " ObjectId('57e200606df1501eb837dfad'),\n",
       " ObjectId('57e200606df1501eb837dfae'),\n",
       " ObjectId('57e200606df1501eb837dfaf'),\n",
       " ObjectId('57e200606df1501eb837dfb0'),\n",
       " ObjectId('57e200606df1501eb837dfb1'),\n",
       " ObjectId('57e200606df1501eb837dfb2'),\n",
       " ObjectId('57e200606df1501eb837dfb3'),\n",
       " ObjectId('57e200606df1501eb837dfb4'),\n",
       " ObjectId('57e200606df1501eb837dfb5'),\n",
       " ObjectId('57e200606df1501eb837dfb6'),\n",
       " ObjectId('57e200606df1501eb837dfb7'),\n",
       " ObjectId('57e200606df1501eb837dfb8'),\n",
       " ObjectId('57e200606df1501eb837dfb9'),\n",
       " ObjectId('57e200606df1501eb837dfba'),\n",
       " ObjectId('57e200606df1501eb837dfbb'),\n",
       " ObjectId('57e200606df1501eb837dfbc'),\n",
       " ObjectId('57e200606df1501eb837dfbd'),\n",
       " ObjectId('57e200606df1501eb837dfbe'),\n",
       " ObjectId('57e200606df1501eb837dfbf'),\n",
       " ObjectId('57e200606df1501eb837dfc0'),\n",
       " ObjectId('57e200606df1501eb837dfc1'),\n",
       " ObjectId('57e200606df1501eb837dfc2'),\n",
       " ObjectId('57e200606df1501eb837dfc3'),\n",
       " ObjectId('57e200606df1501eb837dfc4'),\n",
       " ObjectId('57e200606df1501eb837dfc5'),\n",
       " ObjectId('57e200606df1501eb837dfc6'),\n",
       " ObjectId('57e200606df1501eb837dfc7'),\n",
       " ObjectId('57e200606df1501eb837dfc8'),\n",
       " ObjectId('57e200606df1501eb837dfc9'),\n",
       " ObjectId('57e200606df1501eb837dfca'),\n",
       " ObjectId('57e200606df1501eb837dfcb'),\n",
       " ObjectId('57e200606df1501eb837dfcc'),\n",
       " ObjectId('57e200606df1501eb837dfcd'),\n",
       " ObjectId('57e200606df1501eb837dfce'),\n",
       " ObjectId('57e200606df1501eb837dfcf'),\n",
       " ObjectId('57e200606df1501eb837dfd0'),\n",
       " ObjectId('57e200606df1501eb837dfd1'),\n",
       " ObjectId('57e200606df1501eb837dfd2'),\n",
       " ObjectId('57e200606df1501eb837dfd3'),\n",
       " ObjectId('57e200606df1501eb837dfd4'),\n",
       " ObjectId('57e200606df1501eb837dfd5'),\n",
       " ObjectId('57e200606df1501eb837dfd6'),\n",
       " ObjectId('57e200606df1501eb837dfd7'),\n",
       " ObjectId('57e200606df1501eb837dfd8'),\n",
       " ObjectId('57e200606df1501eb837dfd9'),\n",
       " ObjectId('57e200606df1501eb837dfda'),\n",
       " ObjectId('57e200606df1501eb837dfdb'),\n",
       " ObjectId('57e200606df1501eb837dfdc'),\n",
       " ObjectId('57e200606df1501eb837dfdd'),\n",
       " ObjectId('57e200606df1501eb837dfde'),\n",
       " ObjectId('57e200606df1501eb837dfdf'),\n",
       " ObjectId('57e200606df1501eb837dfe0'),\n",
       " ObjectId('57e200606df1501eb837dfe1'),\n",
       " ObjectId('57e200606df1501eb837dfe2'),\n",
       " ObjectId('57e200606df1501eb837dfe3'),\n",
       " ObjectId('57e200606df1501eb837dfe4'),\n",
       " ObjectId('57e200606df1501eb837dfe5'),\n",
       " ObjectId('57e200606df1501eb837dfe6'),\n",
       " ObjectId('57e200606df1501eb837dfe7'),\n",
       " ObjectId('57e200606df1501eb837dfe8'),\n",
       " ObjectId('57e200606df1501eb837dfe9'),\n",
       " ObjectId('57e200606df1501eb837dfea'),\n",
       " ObjectId('57e200606df1501eb837dfeb'),\n",
       " ObjectId('57e200606df1501eb837dfec'),\n",
       " ObjectId('57e200606df1501eb837dfed'),\n",
       " ObjectId('57e200606df1501eb837dfee'),\n",
       " ObjectId('57e200606df1501eb837dfef'),\n",
       " ObjectId('57e200606df1501eb837dff0'),\n",
       " ObjectId('57e200606df1501eb837dff1'),\n",
       " ObjectId('57e200606df1501eb837dff2'),\n",
       " ObjectId('57e200606df1501eb837dff3'),\n",
       " ObjectId('57e200606df1501eb837dff4'),\n",
       " ObjectId('57e200606df1501eb837dff5'),\n",
       " ObjectId('57e200606df1501eb837dff6'),\n",
       " ObjectId('57e200606df1501eb837dff7'),\n",
       " ObjectId('57e200606df1501eb837dff8'),\n",
       " ObjectId('57e200606df1501eb837dff9'),\n",
       " ObjectId('57e200606df1501eb837dffa'),\n",
       " ObjectId('57e200606df1501eb837dffb'),\n",
       " ObjectId('57e200606df1501eb837dffc'),\n",
       " ObjectId('57e200606df1501eb837dffd'),\n",
       " ObjectId('57e200606df1501eb837dffe'),\n",
       " ObjectId('57e200606df1501eb837dfff'),\n",
       " ObjectId('57e200606df1501eb837e000'),\n",
       " ObjectId('57e200606df1501eb837e001'),\n",
       " ObjectId('57e200606df1501eb837e002'),\n",
       " ObjectId('57e200606df1501eb837e003'),\n",
       " ObjectId('57e200606df1501eb837e004'),\n",
       " ObjectId('57e200606df1501eb837e005'),\n",
       " ObjectId('57e200606df1501eb837e006'),\n",
       " ObjectId('57e200606df1501eb837e007'),\n",
       " ObjectId('57e200606df1501eb837e008'),\n",
       " ObjectId('57e200606df1501eb837e009'),\n",
       " ObjectId('57e200606df1501eb837e00a'),\n",
       " ObjectId('57e200606df1501eb837e00b'),\n",
       " ObjectId('57e200606df1501eb837e00c'),\n",
       " ObjectId('57e200606df1501eb837e00d'),\n",
       " ObjectId('57e200606df1501eb837e00e'),\n",
       " ObjectId('57e200606df1501eb837e00f'),\n",
       " ObjectId('57e200606df1501eb837e010'),\n",
       " ObjectId('57e200606df1501eb837e011'),\n",
       " ObjectId('57e200606df1501eb837e012'),\n",
       " ObjectId('57e200606df1501eb837e013'),\n",
       " ObjectId('57e200606df1501eb837e014'),\n",
       " ObjectId('57e200606df1501eb837e015'),\n",
       " ObjectId('57e200606df1501eb837e016'),\n",
       " ObjectId('57e200606df1501eb837e017'),\n",
       " ObjectId('57e200606df1501eb837e018'),\n",
       " ObjectId('57e200606df1501eb837e019'),\n",
       " ObjectId('57e200606df1501eb837e01a'),\n",
       " ObjectId('57e200606df1501eb837e01b'),\n",
       " ObjectId('57e200606df1501eb837e01c'),\n",
       " ObjectId('57e200606df1501eb837e01d'),\n",
       " ObjectId('57e200606df1501eb837e01e'),\n",
       " ObjectId('57e200606df1501eb837e01f'),\n",
       " ObjectId('57e200606df1501eb837e020'),\n",
       " ObjectId('57e200606df1501eb837e021'),\n",
       " ObjectId('57e200606df1501eb837e022'),\n",
       " ObjectId('57e200606df1501eb837e023'),\n",
       " ObjectId('57e200606df1501eb837e024'),\n",
       " ObjectId('57e200606df1501eb837e025'),\n",
       " ObjectId('57e200606df1501eb837e026'),\n",
       " ObjectId('57e200606df1501eb837e027'),\n",
       " ObjectId('57e200606df1501eb837e028'),\n",
       " ObjectId('57e200606df1501eb837e029'),\n",
       " ObjectId('57e200606df1501eb837e02a'),\n",
       " ObjectId('57e200606df1501eb837e02b'),\n",
       " ObjectId('57e200606df1501eb837e02c'),\n",
       " ObjectId('57e200606df1501eb837e02d'),\n",
       " ObjectId('57e200606df1501eb837e02e'),\n",
       " ObjectId('57e200606df1501eb837e02f'),\n",
       " ObjectId('57e200606df1501eb837e030'),\n",
       " ObjectId('57e200606df1501eb837e031'),\n",
       " ObjectId('57e200606df1501eb837e032'),\n",
       " ObjectId('57e200606df1501eb837e033'),\n",
       " ObjectId('57e200606df1501eb837e034'),\n",
       " ObjectId('57e200606df1501eb837e035'),\n",
       " ObjectId('57e200606df1501eb837e036'),\n",
       " ObjectId('57e200606df1501eb837e037'),\n",
       " ObjectId('57e200606df1501eb837e038'),\n",
       " ObjectId('57e200606df1501eb837e039'),\n",
       " ObjectId('57e200606df1501eb837e03a'),\n",
       " ObjectId('57e200606df1501eb837e03b'),\n",
       " ObjectId('57e200606df1501eb837e03c'),\n",
       " ObjectId('57e200606df1501eb837e03d'),\n",
       " ObjectId('57e200606df1501eb837e03e'),\n",
       " ObjectId('57e200606df1501eb837e03f'),\n",
       " ObjectId('57e200606df1501eb837e040'),\n",
       " ObjectId('57e200606df1501eb837e041'),\n",
       " ObjectId('57e200606df1501eb837e042'),\n",
       " ObjectId('57e200606df1501eb837e043'),\n",
       " ObjectId('57e200606df1501eb837e044'),\n",
       " ObjectId('57e200606df1501eb837e045'),\n",
       " ObjectId('57e200606df1501eb837e046'),\n",
       " ObjectId('57e200606df1501eb837e047'),\n",
       " ObjectId('57e200606df1501eb837e048'),\n",
       " ObjectId('57e200606df1501eb837e049'),\n",
       " ObjectId('57e200606df1501eb837e04a'),\n",
       " ObjectId('57e200606df1501eb837e04b'),\n",
       " ObjectId('57e200606df1501eb837e04c'),\n",
       " ObjectId('57e200606df1501eb837e04d'),\n",
       " ObjectId('57e200606df1501eb837e04e'),\n",
       " ObjectId('57e200606df1501eb837e04f'),\n",
       " ObjectId('57e200606df1501eb837e050'),\n",
       " ObjectId('57e200606df1501eb837e051'),\n",
       " ObjectId('57e200606df1501eb837e052'),\n",
       " ObjectId('57e200606df1501eb837e053'),\n",
       " ObjectId('57e200606df1501eb837e054'),\n",
       " ObjectId('57e200606df1501eb837e055'),\n",
       " ObjectId('57e200606df1501eb837e056'),\n",
       " ObjectId('57e200606df1501eb837e057'),\n",
       " ObjectId('57e200606df1501eb837e058'),\n",
       " ObjectId('57e200606df1501eb837e059'),\n",
       " ObjectId('57e200606df1501eb837e05a'),\n",
       " ObjectId('57e200606df1501eb837e05b'),\n",
       " ObjectId('57e200606df1501eb837e05c'),\n",
       " ObjectId('57e200606df1501eb837e05d'),\n",
       " ObjectId('57e200606df1501eb837e05e'),\n",
       " ObjectId('57e200606df1501eb837e05f'),\n",
       " ObjectId('57e200606df1501eb837e060'),\n",
       " ObjectId('57e200606df1501eb837e061'),\n",
       " ObjectId('57e200606df1501eb837e062'),\n",
       " ObjectId('57e200606df1501eb837e063'),\n",
       " ObjectId('57e200606df1501eb837e064'),\n",
       " ObjectId('57e200606df1501eb837e065'),\n",
       " ObjectId('57e200606df1501eb837e066'),\n",
       " ObjectId('57e200606df1501eb837e067'),\n",
       " ObjectId('57e200606df1501eb837e068'),\n",
       " ObjectId('57e200606df1501eb837e069'),\n",
       " ...]"
      ]
     },
     "execution_count": 50,
     "metadata": {},
     "output_type": "execute_result"
    }
   ],
   "source": [
    "# inserting data can take several minutes\n",
    "client = MongoClient()\n",
    "db = client.culverCityOSM\n",
    "collection = db.culverCityMAP\n",
    "collection.insert(data)"
   ]
  },
  {
   "cell_type": "code",
   "execution_count": 51,
   "metadata": {
    "collapsed": false
   },
   "outputs": [
    {
     "data": {
      "text/plain": [
       "Collection(Database(MongoClient(host=['localhost:27017'], document_class=dict, tz_aware=False, connect=True), u'culverCityOSM'), u'culverCityMAP')"
      ]
     },
     "execution_count": 51,
     "metadata": {},
     "output_type": "execute_result"
    }
   ],
   "source": [
    "collection"
   ]
  },
  {
   "cell_type": "markdown",
   "metadata": {},
   "source": [
    "### Here is the size for original OSM XML file"
   ]
  },
  {
   "cell_type": "code",
   "execution_count": 52,
   "metadata": {
    "collapsed": false
   },
   "outputs": [
    {
     "data": {
      "text/plain": [
       "603L"
      ]
     },
     "execution_count": 52,
     "metadata": {},
     "output_type": "execute_result"
    }
   ],
   "source": [
    "os.path.getsize(culverCityOSM)/1024/1024"
   ]
  },
  {
   "cell_type": "markdown",
   "metadata": {},
   "source": [
    "### Here is the size for reshaped JSON output file"
   ]
  },
  {
   "cell_type": "code",
   "execution_count": 53,
   "metadata": {
    "collapsed": false
   },
   "outputs": [
    {
     "data": {
      "text/plain": [
       "903L"
      ]
     },
     "execution_count": 53,
     "metadata": {},
     "output_type": "execute_result"
    }
   ],
   "source": [
    "os.path.getsize(os.path.join(path, \"culver-city_ca.osm.json\"))/1024/1024"
   ]
  },
  {
   "cell_type": "markdown",
   "metadata": {},
   "source": [
    "### Count of docuements in collection"
   ]
  },
  {
   "cell_type": "code",
   "execution_count": 54,
   "metadata": {
    "collapsed": false
   },
   "outputs": [
    {
     "data": {
      "text/plain": [
       "3027238"
      ]
     },
     "execution_count": 54,
     "metadata": {},
     "output_type": "execute_result"
    }
   ],
   "source": [
    "collection.count()"
   ]
  },
  {
   "cell_type": "markdown",
   "metadata": {},
   "source": [
    "### Here are the number of unique users"
   ]
  },
  {
   "cell_type": "code",
   "execution_count": 55,
   "metadata": {
    "collapsed": false
   },
   "outputs": [
    {
     "data": {
      "text/plain": [
       "569"
      ]
     },
     "execution_count": 55,
     "metadata": {},
     "output_type": "execute_result"
    }
   ],
   "source": [
    "# took a few minutes to run\n",
    "len(collection.group([\"created.uid\"], {}, {\"count\":0}, \"function(o, p){p.count++}\"))"
   ]
  },
  {
   "cell_type": "markdown",
   "metadata": {},
   "source": [
    "### Number of nodes"
   ]
  },
  {
   "cell_type": "code",
   "execution_count": 56,
   "metadata": {
    "collapsed": false
   },
   "outputs": [
    {
     "data": {
      "text/plain": [
       "2757124"
      ]
     },
     "execution_count": 56,
     "metadata": {},
     "output_type": "execute_result"
    }
   ],
   "source": [
    "collection.find({\"type\":\"node\"}).count()"
   ]
  },
  {
   "cell_type": "markdown",
   "metadata": {},
   "source": [
    "### Number of ways"
   ]
  },
  {
   "cell_type": "code",
   "execution_count": 57,
   "metadata": {
    "collapsed": false
   },
   "outputs": [
    {
     "data": {
      "text/plain": [
       "270091"
      ]
     },
     "execution_count": 57,
     "metadata": {},
     "output_type": "execute_result"
    }
   ],
   "source": [
    "collection.find({\"type\":\"way\"}).count()"
   ]
  },
  {
   "cell_type": "markdown",
   "metadata": {},
   "source": [
    "### Now that our data is in a more question friendly format we can look at a few different questions with data pipelines."
   ]
  },
  {
   "cell_type": "markdown",
   "metadata": {},
   "source": [
    "### <font color = grey> Question 1: </font> What are the top 20 sources for this OSM data?</font>"
   ]
  },
  {
   "cell_type": "code",
   "execution_count": 58,
   "metadata": {
    "collapsed": false
   },
   "outputs": [
    {
     "name": "stdout",
     "output_type": "stream",
     "text": [
      "{u'count': 541, u'_id': u'usgs_imagery'}\n",
      "{u'count': 432, u'_id': u'TIGER, Bing'}\n",
      "{u'count': 427, u'_id': u'Bing'}\n",
      "{u'count': 278, u'_id': u'Yahoo!, local knowledge'}\n",
      "{u'count': 223, u'_id': u'survey;image;usgs_imagery'}\n",
      "{u'count': 195, u'_id': u'Yahoo'}\n",
      "{u'count': 161, u'_id': u'Yahoo,TIGER'}\n",
      "{u'count': 124, u'_id': u'bing_imagery_0.06m_200801'}\n",
      "{u'count': 123, u'_id': u'survey, image, usgs_imagery'}\n",
      "{u'count': 107, u'_id': u'USGS Geonames'}\n",
      "{u'count': 95, u'_id': u'survey'}\n",
      "{u'count': 85, u'_id': u'Bing, local knowledge'}\n",
      "{u'count': 72, u'_id': u'yahoo_imagery'}\n",
      "{u'count': 62, u'_id': u'Yahoo!, Bing, local knowledge'}\n",
      "{u'count': 39, u'_id': u'survey;image;usgs_imagery;CDOT'}\n",
      "{u'count': 31, u'_id': u'bing_imagery_0.06m_200801;LACA'}\n",
      "{u'count': 26, u'_id': u'Bing, TIGER'}\n",
      "{u'count': 17, u'_id': u'usgs_imagery;survey;image'}\n",
      "{u'count': 13, u'_id': u'bing'}\n",
      "{u'count': 12, u'_id': u'Los Angeles Fire Department'}\n"
     ]
    }
   ],
   "source": [
    "pipeline = [{\"$match\":{\"source\":{\"$exists\":1}}},\n",
    "            {\"$group\":{\"_id\": \"$source\",\n",
    "                       \"count\": {\"$sum\": 1}}},\n",
    "            {\"$sort\": {\"count\": -1}},\n",
    "            {\"$limit\":20}]\n",
    "result = collection.aggregate(pipeline)\n",
    "\n",
    "for doc in result:\n",
    "    print(doc)"
   ]
  },
  {
   "cell_type": "markdown",
   "metadata": {},
   "source": [
    "### <font color = blue> Answer 1: </font> In the case where a source exists, the usgs_imagery appears twice in the top 5, and multiple times overall.  The other sources include Yahoo, Bing and even the LA Fire Department."
   ]
  },
  {
   "cell_type": "markdown",
   "metadata": {},
   "source": [
    "### <font color = grey> Question 2: </font> Who are the top ten users?</font>"
   ]
  },
  {
   "cell_type": "code",
   "execution_count": 59,
   "metadata": {
    "collapsed": false
   },
   "outputs": [
    {
     "name": "stdout",
     "output_type": "stream",
     "text": [
      "{u'count': 521459, u'_id': u'schleuss_imports'}\n",
      "{u'count': 367727, u'_id': u'manings_labuildings'}\n",
      "{u'count': 348528, u'_id': u'calfarome_labuilding'}\n",
      "{u'count': 308393, u'_id': u'ridixcr_import'}\n",
      "{u'count': 178890, u'_id': u'karitotp_labuildings'}\n",
      "{u'count': 161989, u'_id': u'kingrollo'}\n",
      "{u'count': 138848, u'_id': u'dannykath_labuildings'}\n",
      "{u'count': 119205, u'_id': u'Luis36995_labuildings'}\n",
      "{u'count': 108652, u'_id': u'RichRico_labuildings'}\n",
      "{u'count': 105593, u'_id': u'schleuss'}\n"
     ]
    }
   ],
   "source": [
    "pipeline = [{\"$group\":{\"_id\": \"$created.user\",\n",
    "                       \"count\": {\"$sum\": 1}}},\n",
    "            {\"$sort\": {\"count\": -1}},\n",
    "            {\"$limit\": 10}]\n",
    "result = collection.aggregate(pipeline)\n",
    "for doc in result:\n",
    "    print(doc)"
   ]
  },
  {
   "cell_type": "markdown",
   "metadata": {},
   "source": [
    "### <font color = blue> Answer 2: </font> Note first and last indices contain Schleuss.  A quick internet search leads me to suspect this could be data from Jon Schleuss, data viz artist for the LA times.  I could not come up with any ideas for kingrollo or the users ending in _labuildings.   "
   ]
  },
  {
   "cell_type": "markdown",
   "metadata": {},
   "source": [
    "### <font color = grey> Question 3: </font> What is the ratio of top 10 user contributions?</font>"
   ]
  },
  {
   "cell_type": "code",
   "execution_count": 60,
   "metadata": {
    "collapsed": false,
    "scrolled": true
   },
   "outputs": [
    {
     "name": "stdout",
     "output_type": "stream",
     "text": [
      "{u'_id': u'schleuss_imports', u'ratio': 0.1722556997500692}\n",
      "{u'_id': u'manings_labuildings', u'ratio': 0.12147277485285267}\n",
      "{u'_id': u'calfarome_labuilding', u'ratio': 0.11513069008779621}\n",
      "{u'_id': u'ridixcr_import', u'ratio': 0.10187273019167968}\n",
      "{u'_id': u'karitotp_labuildings', u'ratio': 0.05909347068185587}\n",
      "{u'_id': u'kingrollo', u'ratio': 0.05351049372398206}\n",
      "{u'_id': u'dannykath_labuildings', u'ratio': 0.04586623185887598}\n",
      "{u'_id': u'Luis36995_labuildings', u'ratio': 0.039377478744651064}\n",
      "{u'_id': u'RichRico_labuildings', u'ratio': 0.03589146277894239}\n",
      "{u'_id': u'schleuss', u'ratio': 0.03488097070663093}\n"
     ]
    }
   ],
   "source": [
    "pipeline = [{\"$group\":{\"_id\": \"$created.user\",\n",
    "                       \"count\": {\"$sum\": 1}}},\n",
    "            {\"$project\": {\"ratio\": {\"$divide\" :[\"$count\",collection.find().count()]}}},\n",
    "            {\"$sort\": {\"ratio\": -1}},\n",
    "            {\"$limit\": 10}]\n",
    "result = collection.aggregate(pipeline)\n",
    "for doc in result:\n",
    "    print(doc)"
   ]
  },
  {
   "cell_type": "markdown",
   "metadata": {},
   "source": [
    "### <font color = blue> Answer 3: </font> Twenty percent of contributions come from schleuss_imports and schleuss."
   ]
  },
  {
   "cell_type": "markdown",
   "metadata": {},
   "source": [
    "### <font color = grey> Question 4: </font> What amenities are near me?</font>"
   ]
  },
  {
   "cell_type": "code",
   "execution_count": 61,
   "metadata": {
    "collapsed": false,
    "scrolled": true
   },
   "outputs": [
    {
     "name": "stdout",
     "output_type": "stream",
     "text": [
      "{u'count': 206, u'_id': u'restaurant'}\n",
      "{u'count': 192, u'_id': u'school'}\n",
      "{u'count': 181, u'_id': u'place_of_worship'}\n",
      "{u'count': 120, u'_id': u'fast_food'}\n",
      "{u'count': 93, u'_id': u'cafe'}\n",
      "{u'count': 54, u'_id': u'hospital'}\n",
      "{u'count': 51, u'_id': u'parking'}\n",
      "{u'count': 42, u'_id': u'fuel'}\n",
      "{u'count': 36, u'_id': u'library'}\n",
      "{u'count': 31, u'_id': u'bank'}\n",
      "{u'count': 28, u'_id': u'post_office'}\n",
      "{u'count': 24, u'_id': u'pharmacy'}\n",
      "{u'count': 23, u'_id': u'fire_station'}\n",
      "{u'count': 20, u'_id': u'theatre'}\n",
      "{u'count': 16, u'_id': u'bar'}\n",
      "{u'count': 12, u'_id': u'cinema'}\n",
      "{u'count': 10, u'_id': u'police'}\n",
      "{u'count': 8, u'_id': u'social_facility'}\n",
      "{u'count': 8, u'_id': u'doctors'}\n",
      "{u'count': 6, u'_id': u'car_rental'}\n",
      "{u'count': 5, u'_id': u'college'}\n",
      "{u'count': 5, u'_id': u'arts_centre'}\n",
      "{u'count': 5, u'_id': u'university'}\n",
      "{u'count': 4, u'_id': u'bicycle_rental'}\n",
      "{u'count': 4, u'_id': u'fountain'}\n",
      "{u'count': 4, u'_id': u'townhall'}\n",
      "{u'count': 4, u'_id': u'marketplace'}\n",
      "{u'count': 4, u'_id': u'ice_cream'}\n",
      "{u'count': 4, u'_id': u'clinic'}\n",
      "{u'count': 3, u'_id': u'public_building'}\n"
     ]
    }
   ],
   "source": [
    "pipeline = [{\"$match\":{\"amenity\":{\"$exists\":1}, \"name\":{\"$exists\":1}}},  # exclude any document without amenity or name\n",
    "            {\"$group\":{\"_id\":\"$amenity\", \"count\":{\"$sum\":1}}},\n",
    "            {\"$sort\":{\"count\":-1}},\n",
    "            {\"$limit\":30}]\n",
    "\n",
    "result = collection.aggregate(pipeline)\n",
    "for doc in result:\n",
    "    print(doc)"
   ]
  },
  {
   "cell_type": "markdown",
   "metadata": {},
   "source": [
    "### <font color = blue> Answer 4: </font> Three of the top five amenities (restaurant, fast_food, & cafe) are food related. Plus there are 32 bars, which may also serve food. Seeing ice_cream near the bottom  means people around me like to eat.   </font>"
   ]
  },
  {
   "cell_type": "markdown",
   "metadata": {},
   "source": [
    "### <font color = grey> Question 5: </font> What else is in the fast_food amenity look like?"
   ]
  },
  {
   "cell_type": "code",
   "execution_count": 62,
   "metadata": {
    "collapsed": false,
    "scrolled": true
   },
   "outputs": [
    {
     "name": "stdout",
     "output_type": "stream",
     "text": [
      "{u'amenity': u'fast_food', u'drive_through': u'yes', u'name': u'In-n-Out Burger', u'created': {u'changeset': u'16865124', u'version': u'3', u'uid': u'1519787', u'timestamp': u'2013-07-07T19:45:41Z', u'user': u'kdano'}, u'wheelchair': u'yes', u'pos': [34.0631487, -118.4480856], u'_id': ObjectId('57e200626df1501eb83837b6'), u'type': u'node', u'id': u'672875635'}\n",
      "{u'amenity': u'fast_food', u'name': u'Subway', u'created': {u'changeset': u'5978908', u'version': u'1', u'uid': u'36489', u'timestamp': u'2010-10-07T15:03:57Z', u'user': u'jerjozwik'}, u'pos': [34.0521995, -118.3443903], u'source': u'survey', u'_id': ObjectId('57e200626df1501eb8384d9d'), u'type': u'node', u'id': u'940358499'}\n",
      "{u'amenity': u'fast_food', u'name': u'Panda Express', u'created': {u'changeset': u'1830721', u'version': u'1', u'uid': u'28775', u'timestamp': u'2009-07-14T21:47:44Z', u'user': u'StellanL'}, u'pos': [34.0174651, -118.4084395], u'_id': ObjectId('57e200626df1501eb8382635'), u'type': u'node', u'id': u'441936006'}\n",
      "{u'amenity': u'fast_food', u'name': u'Chipotle', u'created': {u'changeset': u'20820368', u'version': u'3', u'uid': u'1679', u'timestamp': u'2014-02-28T02:48:23Z', u'user': u'andrewpmk'}, u'pos': [34.0744214, -118.3767739], u'_id': ObjectId('57e200616df1501eb8381a5d'), u'type': u'node', u'id': u'349340479'}\n",
      "{u'amenity': u'fast_food', u'name': u'Jack in the Box', u'created': {u'changeset': u'1830721', u'version': u'1', u'uid': u'28775', u'timestamp': u'2009-07-14T22:01:54Z', u'user': u'StellanL'}, u'pos': [34.0188595, -118.4074009], u'_id': ObjectId('57e200626df1501eb8382640'), u'type': u'node', u'id': u'441939468'}\n"
     ]
    }
   ],
   "source": [
    "pipeline = [{\"$match\":{\"amenity\":{\"$exists\":1}, \"amenity\":\"fast_food\" , \"name\":{\"$exists\":1}}},\n",
    "            {\"$sort\":{\"count\":-1}},\n",
    "            {\"$limit\":5}]\n",
    "\n",
    "result = collection.aggregate(pipeline)\n",
    "for doc in result:\n",
    "    print(doc)"
   ]
  },
  {
   "cell_type": "markdown",
   "metadata": {},
   "source": [
    "### <font color = blue> Answer 5: </font> Note the drive_through tag.  We could look at the fast food locations by name."
   ]
  },
  {
   "cell_type": "markdown",
   "metadata": {},
   "source": [
    "### <font color = grey> Question 6: </font> What are the top 10 different fast food names?</font>"
   ]
  },
  {
   "cell_type": "code",
   "execution_count": 63,
   "metadata": {
    "collapsed": false
   },
   "outputs": [
    {
     "name": "stdout",
     "output_type": "stream",
     "text": [
      "{u'count': 13, u'_id': u'Subway'}\n",
      "{u'count': 8, u'_id': u\"McDonald's\"}\n",
      "{u'count': 5, u'_id': u'KFC'}\n",
      "{u'count': 4, u'_id': u'Burger King'}\n",
      "{u'count': 4, u'_id': u'Chipotle'}\n",
      "{u'count': 4, u'_id': u'Taco Bell'}\n",
      "{u'count': 3, u'_id': u'Jamba Juice'}\n",
      "{u'count': 3, u'_id': u\"Noah's Bagels\"}\n",
      "{u'count': 3, u'_id': u'Panda Express'}\n",
      "{u'count': 2, u'_id': u'Jack in the Box'}\n"
     ]
    }
   ],
   "source": [
    "pipeline = [{\"$match\":{\"amenity\":{\"$exists\":1}, \"amenity\":\"fast_food\" , \"name\":{\"$exists\":1}}},\n",
    "            {\"$group\":{\"_id\":\"$name\", \"count\":{\"$sum\":1}}},\n",
    "            {\"$sort\":{\"count\":-1}},\n",
    "            {\"$limit\":10}]\n",
    "\n",
    "result = collection.aggregate(pipeline)\n",
    "for doc in result:\n",
    "    print(doc)"
   ]
  },
  {
   "cell_type": "markdown",
   "metadata": {},
   "source": [
    "### <font color = blue> Answer 6: </font> Subway has the top spot for fastfood.  I wonder what attributes and features are used to classify amenities like restaurants, fast food, bars and pub.  I read [this page here](http://wiki.openstreetmap.org/wiki/Key:amenity) although these sorts of definitions are often subjective and difficult to crowd source."
   ]
  },
  {
   "cell_type": "markdown",
   "metadata": {},
   "source": [
    "### <font color = grey> Question 7: </font> How else can we group the restaurant amenities?"
   ]
  },
  {
   "cell_type": "code",
   "execution_count": 64,
   "metadata": {
    "collapsed": false
   },
   "outputs": [
    {
     "name": "stdout",
     "output_type": "stream",
     "text": [
      "{u'cuisine': u'sushi', u'amenity': u'restaurant', u'name': u'Yokohama Sushi', u'created': {u'changeset': u'412604', u'version': u'2', u'uid': u'28775', u'timestamp': u'2008-07-06T10:19:10Z', u'user': u'StellanL'}, u'pos': [34.0169087, -118.4066108], u'created_by': u'Potlatch 0.9c', u'_id': ObjectId('57e200616df1501eb8380cda'), u'type': u'node', u'id': u'276597746'}\n",
      "{u'amenity': u'restaurant', u'name': u\"Jerry's Famous Deli\", u'created': {u'changeset': u'652741', u'version': u'1', u'uid': u'100465', u'timestamp': u'2009-02-24T01:05:48Z', u'user': u'emc1x'}, u'pos': [34.0770679, -118.3806155], u'created_by': u'Potlatch 0.10f', u'_id': ObjectId('57e200616df1501eb8381a8e'), u'type': u'node', u'id': u'350742224'}\n",
      "{u'amenity': u'restaurant', u'name': u'Bossa Nova', u'created': {u'changeset': u'10875502', u'version': u'2', u'uid': u'81983', u'timestamp': u'2012-03-05T00:23:14Z', u'user': u'Ogmios'}, u'pos': [34.0832812, -118.3858855], u'_id': ObjectId('57e200616df1501eb8381acf'), u'type': u'node', u'id': u'350766338'}\n"
     ]
    }
   ],
   "source": [
    "pipeline = [{\"$match\":{\"amenity\":{\"$exists\":1}, \"amenity\":\"restaurant\" , \"name\":{\"$exists\":1}}},\n",
    "            {\"$sort\":{\"count\":-1}},\n",
    "            {\"$limit\":3}]\n",
    "\n",
    "result = collection.aggregate(pipeline)\n",
    "for doc in result:\n",
    "    print(doc)"
   ]
  },
  {
   "cell_type": "markdown",
   "metadata": {},
   "source": [
    "### Let's group the data to count by cuisine."
   ]
  },
  {
   "cell_type": "code",
   "execution_count": 65,
   "metadata": {
    "collapsed": false
   },
   "outputs": [
    {
     "name": "stdout",
     "output_type": "stream",
     "text": [
      "{u'count': 15, u'_id': u'mexican'}\n",
      "{u'count': 12, u'_id': u'italian'}\n",
      "{u'count': 9, u'_id': u'american'}\n",
      "{u'count': 7, u'_id': u'burger'}\n",
      "{u'count': 7, u'_id': u'sushi'}\n",
      "{u'count': 6, u'_id': u'pizza'}\n",
      "{u'count': 5, u'_id': u'thai'}\n",
      "{u'count': 5, u'_id': u'indian'}\n",
      "{u'count': 5, u'_id': u'chinese'}\n",
      "{u'count': 4, u'_id': u'japanese'}\n"
     ]
    }
   ],
   "source": [
    "pipeline = [{\"$match\":{\"amenity\":{\"$exists\":1}, \"amenity\":\"restaurant\", \"cuisine\":{\"$exists\":1}}}, \n",
    "            {\"$group\":{\"_id\":\"$cuisine\", \"count\":{\"$sum\":1}}},        \n",
    "            {\"$sort\":{\"count\":-1}}, \n",
    "            {\"$limit\":10}]\n",
    "result = collection.aggregate(pipeline)\n",
    "for doc in result:\n",
    "    print(doc)"
   ]
  },
  {
   "cell_type": "markdown",
   "metadata": {},
   "source": [
    "### <font color = blue> Answer 7: </font> Japanese and Sushi combine to be the number three type of cuisine.  Likewise, pizza and Italian, american and burger are similar cuisine.  So eventhough mexican is the number one cuisine, the distribution of cuisine types are similar when combine like cuisine.  "
   ]
  },
  {
   "cell_type": "markdown",
   "metadata": {},
   "source": [
    "### <font color = grey> Question 8: </font> Are the opening hours for the cafe amenity in a standard format?"
   ]
  },
  {
   "cell_type": "code",
   "execution_count": 66,
   "metadata": {
    "collapsed": false
   },
   "outputs": [
    {
     "name": "stdout",
     "output_type": "stream",
     "text": [
      "{u'count': 1, u'_id': u'Mo-Fr 07:00-16:00'}\n",
      "{u'count': 1, u'_id': u'Mo-Fr 5:00-21:00; Sa-Su 6:00-21:00'}\n",
      "{u'count': 1, u'_id': u'Monday 11:00 am - 9:00 pm, Tuesday 11:00 am - 9:00 pm, Wednesday 11:00 am - 9:00 pm, Thursday 11:00 am - 10:00 pm, Friday 11:00 am - 10:00 pm, Saturday 11:00 am - 10:00 pm, Sunday 4:00 pm - 9:00 pm'}\n",
      "{u'count': 1, u'_id': u'Mo-Su 05:00-21:00'}\n",
      "{u'count': 1, u'_id': u'Mo-Su 08:00-17:00'}\n",
      "{u'count': 1, u'_id': u'Mo-Fr 09:00-15:00'}\n",
      "{u'count': 1, u'_id': u'Mo-Su 16:00-22:00'}\n",
      "{u'count': 1, u'_id': u'Sun - Sat 5 am - 8 pm'}\n",
      "{u'count': 1, u'_id': u'M-F 4:30AM-9:00PM, Sa-Su 5:00AM-9:00PM'}\n",
      "{u'count': 1, u'_id': u'Mo-Su 5:00-20:00'}\n",
      "{u'count': 1, u'_id': u'M-F 7am - 11pm Sa-Su 8am - 11p'}\n",
      "{u'count': 1, u'_id': u'Mo-Fr 04:30-22:00; Sa-Su 05:00-22:00'}\n"
     ]
    }
   ],
   "source": [
    "pipeline = [{\"$match\":{\"amenity\":{\"$exists\":1}, \"amenity\":\"cafe\" , \"opening_hours\":{\"$exists\":1}}},\n",
    "            {\"$group\":{\"_id\":\"$opening_hours\", \"count\":{\"$sum\":1}}},\n",
    "            {\"$sort\":{\"count\":-1}},\n",
    "            {\"$limit\":20}]\n",
    "\n",
    "result = collection.aggregate(pipeline)\n",
    "for doc in result:\n",
    "    print(doc)"
   ]
  },
  {
   "cell_type": "markdown",
   "metadata": {},
   "source": [
    "### <font color = blue> Answer 8: </font> No, the hours do not look standardized.  Maybe an open and close tag containing open and close hours in a 24-hr format could help improve the data."
   ]
  },
  {
   "cell_type": "markdown",
   "metadata": {},
   "source": [
    "### <font color = grey> Question 9: </font> What denominations with respect to place of worship are most represented?"
   ]
  },
  {
   "cell_type": "code",
   "execution_count": 67,
   "metadata": {
    "collapsed": false
   },
   "outputs": [
    {
     "name": "stdout",
     "output_type": "stream",
     "text": [
      "{u'count': 21, u'_id': u'baptist'}\n",
      "{u'count': 18, u'_id': u'lutheran'}\n",
      "{u'count': 15, u'_id': u'catholic'}\n",
      "{u'count': 11, u'_id': u'presbyterian'}\n",
      "{u'count': 10, u'_id': u'methodist'}\n",
      "{u'count': 5, u'_id': u'mormon'}\n",
      "{u'count': 3, u'_id': u'Jewish'}\n",
      "{u'count': 2, u'_id': u'pentecostal'}\n",
      "{u'count': 1, u'_id': u'jewish'}\n",
      "{u'count': 1, u'_id': u'jehovahs_witness'}\n"
     ]
    }
   ],
   "source": [
    "pipeline = [{\"$match\":{\"amenity\":{\"$exists\":1}, \"amenity\":\"place_of_worship\" , \"denomination\":{\"$exists\":1}}},\n",
    "            {\"$group\":{\"_id\":\"$denomination\", \"count\":{\"$sum\":1}}},\n",
    "            {\"$sort\":{\"count\":-1}},\n",
    "            {\"$limit\":10}]\n",
    "\n",
    "result = collection.aggregate(pipeline)\n",
    "for doc in result:\n",
    "    print(doc)"
   ]
  },
  {
   "cell_type": "markdown",
   "metadata": {},
   "source": [
    "### <font color = blue> Answer 9: </font> Baptist is the most frequent denomination within place of worship.  Note the Jewish denomination is on the list twice due to capitalization."
   ]
  },
  {
   "cell_type": "markdown",
   "metadata": {},
   "source": [
    "### Conclusion:  For this project the focus was data wrangling and mungling using a selected XML extract from OpenStreetMap (OSM).  The OSM data is human sourced, as such we cleaned up street names and audited zip codes before inserting data into mongodb.  Once the data is collected in mongodb, we can look at the number of unique users, look at the source for our data and investigate amenities.  In Culver City, we see places to eat and drink, such as restaurants, fast food and cafes are in no shortage.  The opening hours for the cafe amenity are non-uniform, so there could be an opportunity to improve the schema by adding tags such as time_in and time_out.   "
   ]
  },
  {
   "cell_type": "code",
   "execution_count": null,
   "metadata": {
    "collapsed": true
   },
   "outputs": [],
   "source": []
  }
 ],
 "metadata": {
  "anaconda-cloud": {},
  "kernelspec": {
   "display_name": "Python [Root]",
   "language": "python",
   "name": "Python [Root]"
  },
  "language_info": {
   "codemirror_mode": {
    "name": "ipython",
    "version": 2
   },
   "file_extension": ".py",
   "mimetype": "text/x-python",
   "name": "python",
   "nbconvert_exporter": "python",
   "pygments_lexer": "ipython2",
   "version": "2.7.12"
  }
 },
 "nbformat": 4,
 "nbformat_minor": 0
}
